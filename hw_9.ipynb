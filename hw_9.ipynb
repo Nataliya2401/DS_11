{
  "cells": [
    {
      "cell_type": "markdown",
      "metadata": {
        "id": "view-in-github",
        "colab_type": "text"
      },
      "source": [
        "<a href=\"https://colab.research.google.com/github/Nataliya2401/DS_11/blob/main/hw_9.ipynb\" target=\"_parent\"><img src=\"https://colab.research.google.com/assets/colab-badge.svg\" alt=\"Open In Colab\"/></a>"
      ]
    },
    {
      "cell_type": "code",
      "execution_count": 192,
      "metadata": {
        "id": "il_0_5OyUSNR"
      },
      "outputs": [],
      "source": [
        "import tensorflow as tf\n",
        "import numpy as np\n",
        "import pandas as pd\n",
        "import matplotlib.pyplot as plt\n",
        "import random\n",
        "import keras as K\n",
        "import seaborn as sns\n",
        "from sklearn.metrics import confusion_matrix\n",
        "%matplotlib inline"
      ]
    },
    {
      "cell_type": "code",
      "source": [
        "from keras.datasets import fashion_mnist\n",
        "from keras.models import Sequential\n",
        "from keras.layers import Dense, Dropout\n",
        "from keras import utils"
      ],
      "metadata": {
        "id": "Fiohb3Ow-RiZ"
      },
      "execution_count": 193,
      "outputs": []
    },
    {
      "cell_type": "code",
      "source": [
        "from keras.src import callbacks\n",
        "from keras.optimizers import Adam, Adamax\n",
        "from keras.callbacks import EarlyStopping"
      ],
      "metadata": {
        "id": "puHu7mMOjsrH"
      },
      "execution_count": 194,
      "outputs": []
    },
    {
      "cell_type": "code",
      "execution_count": 195,
      "metadata": {
        "id": "cd-1_abTUSNS"
      },
      "outputs": [],
      "source": [
        "num_classes = 10 # загальна кількість класів\n",
        "num_features = 784 # кількість атрибутів вхідного вектора 28 * 28 = 784\n",
        "\n",
        "learn_rate = 0.001 # швидкість навчання нейронної мережі\n",
        "batch_size = 512 # перераховувати ваги мережі ми будемо не на всій вибірці, а на її випадковій підмножині з batch_size елементів\n",
        "n_hidden_1 = 512 # кількість нейронів 1-го шару\n",
        "n_hidden_2 = 128 # кількість нейронів 2-го шару"
      ]
    },
    {
      "cell_type": "code",
      "source": [
        "# Завантажуємо датасет\n",
        "(x_train, y_train), (x_test, y_test) = fashion_mnist.load_data()"
      ],
      "metadata": {
        "id": "ehQUJpQJ5X40"
      },
      "execution_count": 238,
      "outputs": []
    },
    {
      "cell_type": "code",
      "source": [
        "assert x_train.shape == (60000, 28, 28)\n",
        "assert x_test.shape == (10000, 28, 28)\n",
        "assert y_train.shape == (60000,)\n",
        "assert y_test.shape == (10000,)"
      ],
      "metadata": {
        "id": "CwE6h9P05OFH"
      },
      "execution_count": 197,
      "outputs": []
    },
    {
      "cell_type": "code",
      "source": [
        "x_train[0].shape"
      ],
      "metadata": {
        "colab": {
          "base_uri": "https://localhost:8080/"
        },
        "id": "6jT_JUe1SXkw",
        "outputId": "b23348b3-1c17-4e10-9bbf-1e72f771ead8"
      },
      "execution_count": 198,
      "outputs": [
        {
          "output_type": "execute_result",
          "data": {
            "text/plain": [
              "(28, 28)"
            ]
          },
          "metadata": {},
          "execution_count": 198
        }
      ]
    },
    {
      "cell_type": "code",
      "source": [
        "class_name = ['T-shirt/top', 'Trouser', 'Pullover', 'Dress', 'Coat', 'Sandal', 'Shirt', 'Sneaker', 'Bag', 'Ankle_boot']"
      ],
      "metadata": {
        "id": "w5J3y8bV63Mu"
      },
      "execution_count": 199,
      "outputs": []
    },
    {
      "cell_type": "code",
      "source": [
        "class_name[y_train[0]]"
      ],
      "metadata": {
        "colab": {
          "base_uri": "https://localhost:8080/",
          "height": 36
        },
        "id": "iYDiEFf1pyOi",
        "outputId": "eceadeaa-7559-4e57-c8de-b5b081f19f9e"
      },
      "execution_count": 200,
      "outputs": [
        {
          "output_type": "execute_result",
          "data": {
            "text/plain": [
              "'Ankle_boot'"
            ],
            "application/vnd.google.colaboratory.intrinsic+json": {
              "type": "string"
            }
          },
          "metadata": {},
          "execution_count": 200
        }
      ]
    },
    {
      "cell_type": "code",
      "source": [
        "plt.figure(figsize=(10,10))\n",
        "\n",
        "fig, ax = plt.subplots(1,3, figsize=(10, 4))\n",
        "\n",
        "for i in range(5):\n",
        "  plt.subplot(1,5,i+1)\n",
        "  plt.xticks([])\n",
        "  plt.yticks([])\n",
        "\n",
        "  plt.imshow(x_train[i], cmap='gray')\n",
        "  plt.xlabel(class_name[y_train[i]])\n",
        "\n",
        "plt.show()\n"
      ],
      "metadata": {
        "colab": {
          "base_uri": "https://localhost:8080/",
          "height": 265
        },
        "id": "d9JjxPKUSuYY",
        "outputId": "e7e6422f-5af7-4855-902f-57d7404e2f9a"
      },
      "execution_count": 201,
      "outputs": [
        {
          "output_type": "stream",
          "name": "stderr",
          "text": [
            "<ipython-input-201-a93e42dc1f24>:6: MatplotlibDeprecationWarning: Auto-removal of overlapping axes is deprecated since 3.6 and will be removed two minor releases later; explicitly call ax.remove() as needed.\n",
            "  plt.subplot(1,5,i+1)\n"
          ]
        },
        {
          "output_type": "display_data",
          "data": {
            "text/plain": [
              "<Figure size 1000x1000 with 0 Axes>"
            ]
          },
          "metadata": {}
        },
        {
          "output_type": "display_data",
          "data": {
            "text/plain": [
              "<Figure size 1000x400 with 5 Axes>"
            ],
            "image/png": "[encoded data removed]"
          },
          "metadata": {}
        }
      ]
    },
    {
      "cell_type": "code",
      "source": [
        "y_train[:5]"
      ],
      "metadata": {
        "colab": {
          "base_uri": "https://localhost:8080/"
        },
        "id": "E_wlHYGgT1dZ",
        "outputId": "e18cfdd6-d185-48cb-ede2-718f77612060"
      },
      "execution_count": 202,
      "outputs": [
        {
          "output_type": "execute_result",
          "data": {
            "text/plain": [
              "array([9, 0, 0, 3, 0], dtype=uint8)"
            ]
          },
          "metadata": {},
          "execution_count": 202
        }
      ]
    },
    {
      "cell_type": "code",
      "execution_count": 239,
      "metadata": {
        "id": "pGTXiRyTUSNT"
      },
      "outputs": [],
      "source": [
        "# Перетворюємо цілочисельні пікселі на тип float32\n",
        "x_train, x_test = np.array(x_train, np.float32), np.array(x_test, np.float32)\n",
        "# Перетворюємо матриці розміром 28x28 пікселів у вектор з 784 елементів\n",
        "x_train, x_test = x_train.reshape([-1, num_features]), x_test.reshape([-1, num_features])\n",
        "# Нормалізуємо значення пікселів\n",
        "x_train, x_test = x_train / 255., x_test / 255.\n",
        "# Перемішаємо тренувальні дані\n",
        "train_data = tf.data.Dataset.from_tensor_slices((x_train, y_train))\n",
        "train_data = train_data.repeat().shuffle(5000).batch(batch_size).prefetch(1)"
      ]
    },
    {
      "cell_type": "code",
      "source": [
        "x_test.shape, y_test.shape"
      ],
      "metadata": {
        "colab": {
          "base_uri": "https://localhost:8080/"
        },
        "id": "0yqq7fr_dYAb",
        "outputId": "41ccdf56-a513-4bfc-c853-5102207cc010"
      },
      "execution_count": 204,
      "outputs": [
        {
          "output_type": "execute_result",
          "data": {
            "text/plain": [
              "((10000, 784), (10000,))"
            ]
          },
          "metadata": {},
          "execution_count": 204
        }
      ]
    },
    {
      "cell_type": "code",
      "execution_count": 240,
      "metadata": {
        "id": "FkRmCQjnUSNV"
      },
      "outputs": [],
      "source": [
        "# Створимо нейронну мережу\n",
        "model = Sequential([\n",
        "    Dense(n_hidden_1, input_shape=(784,), activation='relu'),\n",
        "    Dense(n_hidden_2, activation='relu'),\n",
        "    Dense(10, activation='softmax')\n",
        "])"
      ]
    },
    {
      "cell_type": "code",
      "source": [
        "model.summary()"
      ],
      "metadata": {
        "colab": {
          "base_uri": "https://localhost:8080/"
        },
        "id": "ytozvMRki8Pp",
        "outputId": "001e1b4d-d32f-470e-fbc1-391a666f4c91"
      },
      "execution_count": 241,
      "outputs": [
        {
          "output_type": "stream",
          "name": "stdout",
          "text": [
            "Model: \"sequential_21\"\n",
            "_________________________________________________________________\n",
            " Layer (type)                Output Shape              Param #   \n",
            "=================================================================\n",
            " dense_72 (Dense)            (None, 512)               401920    \n",
            "                                                                 \n",
            " dense_73 (Dense)            (None, 128)               65664     \n",
            "                                                                 \n",
            " dense_74 (Dense)            (None, 10)                1290      \n",
            "                                                                 \n",
            "=================================================================\n",
            "Total params: 468874 (1.79 MB)\n",
            "Trainable params: 468874 (1.79 MB)\n",
            "Non-trainable params: 0 (0.00 Byte)\n",
            "_________________________________________________________________\n"
          ]
        }
      ]
    },
    {
      "cell_type": "code",
      "source": [
        "model.compile(\n",
        "    optimizer=Adam(learning_rate=learn_rate),\n",
        "    loss='sparse_categorical_crossentropy',\n",
        "    metrics=['accuracy'])"
      ],
      "metadata": {
        "id": "pEbOyA2zjW_n"
      },
      "execution_count": 242,
      "outputs": []
    },
    {
      "cell_type": "code",
      "source": [
        "from sklearn.model_selection import train_test_split\n",
        "X_train, X_val, y_train, y_val = train_test_split(x_train, y_train, test_size=0.15, random_state=1235)"
      ],
      "metadata": {
        "id": "Mp2woLoDliCs"
      },
      "execution_count": 243,
      "outputs": []
    },
    {
      "cell_type": "code",
      "source": [
        "X_train.shape, y_train.shape, X_val.shape, y_val.shape"
      ],
      "metadata": {
        "colab": {
          "base_uri": "https://localhost:8080/"
        },
        "id": "tOuCBnrGmkOr",
        "outputId": "526e645d-f3ad-404a-8f9f-be2b72dea813"
      },
      "execution_count": 207,
      "outputs": [
        {
          "output_type": "execute_result",
          "data": {
            "text/plain": [
              "((48000, 784), (60000,), (12000, 784), (12000,))"
            ]
          },
          "metadata": {},
          "execution_count": 207
        }
      ]
    },
    {
      "cell_type": "code",
      "source": [
        "y_train[:5],"
      ],
      "metadata": {
        "colab": {
          "base_uri": "https://localhost:8080/"
        },
        "id": "_b65o_gyRRgn",
        "outputId": "ae8e6c58-aab9-41aa-e643-d54db99661e6"
      },
      "execution_count": 244,
      "outputs": [
        {
          "output_type": "execute_result",
          "data": {
            "text/plain": [
              "(array([8, 1, 9, 2, 1], dtype=uint8),)"
            ]
          },
          "metadata": {},
          "execution_count": 244
        }
      ]
    },
    {
      "cell_type": "code",
      "execution_count": 231,
      "metadata": {
        "id": "fnyns9lBfpQZ",
        "colab": {
          "base_uri": "https://localhost:8080/"
        },
        "outputId": "327ed37b-3b9a-4b08-bf5a-7a84760af8ce"
      },
      "outputs": [
        {
          "output_type": "stream",
          "name": "stdout",
          "text": [
            "Epoch 1/20\n",
            "100/100 [==============================] - 4s 34ms/step - loss: 0.6151 - accuracy: 0.7882 - val_loss: 0.4265 - val_accuracy: 0.8577\n",
            "Epoch 2/20\n",
            "100/100 [==============================] - 4s 44ms/step - loss: 0.4048 - accuracy: 0.8567 - val_loss: 0.3855 - val_accuracy: 0.8648\n",
            "Epoch 3/20\n",
            "100/100 [==============================] - 3s 32ms/step - loss: 0.3603 - accuracy: 0.8709 - val_loss: 0.3693 - val_accuracy: 0.8639\n",
            "Epoch 4/20\n",
            "100/100 [==============================] - 3s 32ms/step - loss: 0.3297 - accuracy: 0.8808 - val_loss: 0.3444 - val_accuracy: 0.8819\n",
            "Epoch 5/20\n",
            "100/100 [==============================] - 3s 32ms/step - loss: 0.3061 - accuracy: 0.8887 - val_loss: 0.3189 - val_accuracy: 0.8894\n",
            "Epoch 6/20\n",
            "100/100 [==============================] - 4s 43ms/step - loss: 0.2928 - accuracy: 0.8931 - val_loss: 0.3138 - val_accuracy: 0.8898\n",
            "Epoch 7/20\n",
            "100/100 [==============================] - 3s 31ms/step - loss: 0.2751 - accuracy: 0.9000 - val_loss: 0.3240 - val_accuracy: 0.8862\n",
            "Epoch 8/20\n",
            "100/100 [==============================] - 3s 30ms/step - loss: 0.2589 - accuracy: 0.9052 - val_loss: 0.3055 - val_accuracy: 0.8926\n",
            "Epoch 9/20\n",
            "100/100 [==============================] - 3s 30ms/step - loss: 0.2540 - accuracy: 0.9054 - val_loss: 0.2964 - val_accuracy: 0.8940\n",
            "Epoch 10/20\n",
            "100/100 [==============================] - 4s 42ms/step - loss: 0.2432 - accuracy: 0.9106 - val_loss: 0.2965 - val_accuracy: 0.8971\n",
            "Epoch 11/20\n",
            "100/100 [==============================] - 3s 32ms/step - loss: 0.2303 - accuracy: 0.9144 - val_loss: 0.3059 - val_accuracy: 0.8941\n",
            "Epoch 12/20\n",
            "100/100 [==============================] - 3s 32ms/step - loss: 0.2258 - accuracy: 0.9166 - val_loss: 0.2942 - val_accuracy: 0.8936\n",
            "Epoch 13/20\n",
            "100/100 [==============================] - 4s 36ms/step - loss: 0.2181 - accuracy: 0.9190 - val_loss: 0.2870 - val_accuracy: 0.8976\n",
            "Epoch 14/20\n",
            "100/100 [==============================] - 4s 37ms/step - loss: 0.2095 - accuracy: 0.9223 - val_loss: 0.2856 - val_accuracy: 0.8987\n",
            "Epoch 15/20\n",
            "100/100 [==============================] - 3s 31ms/step - loss: 0.1995 - accuracy: 0.9249 - val_loss: 0.2910 - val_accuracy: 0.9000\n",
            "Epoch 16/20\n",
            "100/100 [==============================] - 3s 30ms/step - loss: 0.1955 - accuracy: 0.9264 - val_loss: 0.2981 - val_accuracy: 0.8948\n",
            "Epoch 17/20\n",
            "100/100 [==============================] - 4s 37ms/step - loss: 0.1844 - accuracy: 0.9319 - val_loss: 0.2937 - val_accuracy: 0.9008\n",
            "Epoch 18/20\n",
            "100/100 [==============================] - 4s 36ms/step - loss: 0.1812 - accuracy: 0.9319 - val_loss: 0.2916 - val_accuracy: 0.9049\n",
            "Epoch 19/20\n",
            "100/100 [==============================] - 3s 31ms/step - loss: 0.1741 - accuracy: 0.9347 - val_loss: 0.2952 - val_accuracy: 0.8974\n",
            "Epoch 20/20\n",
            "100/100 [==============================] - 3s 30ms/step - loss: 0.1674 - accuracy: 0.9386 - val_loss: 0.3077 - val_accuracy: 0.8989\n"
          ]
        }
      ],
      "source": [
        "# Тренування мережі\n",
        "history = model.fit(X_train, y_train, batch_size=batch_size,\n",
        "                    epochs=20,\n",
        "                    verbose=1,\n",
        "                    validation_data=(X_val, y_val))"
      ]
    },
    {
      "cell_type": "code",
      "source": [
        "score = model.evaluate(x_test, y_test, verbose=0)\n",
        "print('Test loss: ', score[0])\n",
        "print('Test accuracy: ', score[1])"
      ],
      "metadata": {
        "colab": {
          "base_uri": "https://localhost:8080/"
        },
        "id": "ODeCfxRspnrN",
        "outputId": "88ee19d6-1471-424e-9c39-c4ff5b8cae1b"
      },
      "execution_count": 232,
      "outputs": [
        {
          "output_type": "stream",
          "name": "stdout",
          "text": [
            "Test loss:  0.3445635735988617\n",
            "Test accuracy:  0.8888000249862671\n"
          ]
        }
      ]
    },
    {
      "cell_type": "code",
      "execution_count": 233,
      "metadata": {
        "id": "_yCBfG6MbQB2",
        "colab": {
          "base_uri": "https://localhost:8080/",
          "height": 927
        },
        "outputId": "bc0722db-8bf2-489d-bbbf-45c8113a8b22"
      },
      "outputs": [
        {
          "output_type": "display_data",
          "data": {
            "text/plain": [
              "<Figure size 640x480 with 1 Axes>"
            ],
            "image/png": "[encoded data removed]"
          },
          "metadata": {}
        },
        {
          "output_type": "display_data",
          "data": {
            "text/plain": [
              "<Figure size 640x480 with 1 Axes>"
            ],
            "image/png": "[encoded data removed]"
          },
          "metadata": {}
        }
      ],
      "source": [
        "history_dict = history.history\n",
        "loss_values = history_dict['loss']\n",
        "val_loss_values = history_dict['val_loss']\n",
        "\n",
        "epochs = range(1, len(history_dict['accuracy']) +1)\n",
        "\n",
        "plt.figure()\n",
        "plt.plot(epochs, loss_values, 'r*', label='Training loss')\n",
        "plt.plot(epochs, val_loss_values, 'r', label='Validation loss')\n",
        "plt.title('Training and Validation Loss')\n",
        "plt.xlabel('Epochs')\n",
        "plt.ylabel('Loss')\n",
        "plt.legend()\n",
        "plt.show()\n",
        "\n",
        "# Виведіть графік точності\n",
        "plt.clf()\n",
        "val_acc_values = history_dict['val_accuracy']\n",
        "acc_values = history_dict['accuracy']\n",
        "plt.plot(epochs, acc_values, 'bo', label='Training acc')\n",
        "plt.plot(epochs, val_acc_values, 'b', label='Validation acc')\n",
        "plt.title('Accuracy')\n",
        "plt.xlabel('Epochs')\n",
        "plt.ylabel('accuracy')\n",
        "plt.legend()\n",
        "plt.show()\n"
      ]
    },
    {
      "cell_type": "code",
      "source": [
        "y_train[:5],"
      ],
      "metadata": {
        "colab": {
          "base_uri": "https://localhost:8080/"
        },
        "id": "B0fqg5oxS83u",
        "outputId": "cbbd2b96-daf9-4963-c748-6fd54b7c3f76"
      },
      "execution_count": 245,
      "outputs": [
        {
          "output_type": "execute_result",
          "data": {
            "text/plain": [
              "(array([8, 1, 9, 2, 1], dtype=uint8),)"
            ]
          },
          "metadata": {},
          "execution_count": 245
        }
      ]
    },
    {
      "cell_type": "markdown",
      "source": [
        "Зменшимо кількість епох до 15"
      ],
      "metadata": {
        "id": "73-EVQehYPcC"
      }
    },
    {
      "cell_type": "code",
      "source": [
        "history2 = model.fit(X_train, y_train, batch_size=batch_size,\n",
        "                    epochs=15,\n",
        "                    verbose=2,\n",
        "                    validation_data=(X_val, y_val))"
      ],
      "metadata": {
        "colab": {
          "base_uri": "https://localhost:8080/"
        },
        "id": "BfwJeo59wud_",
        "outputId": "dc70dc1d-f82e-483d-d4e6-d5162c3bbd86"
      },
      "execution_count": 246,
      "outputs": [
        {
          "output_type": "stream",
          "name": "stdout",
          "text": [
            "Epoch 1/15\n",
            "100/100 - 4s - loss: 0.6286 - accuracy: 0.7831 - val_loss: 0.4666 - val_accuracy: 0.8323 - 4s/epoch - 42ms/step\n",
            "Epoch 2/15\n",
            "100/100 - 4s - loss: 0.4117 - accuracy: 0.8548 - val_loss: 0.3890 - val_accuracy: 0.8604 - 4s/epoch - 38ms/step\n",
            "Epoch 3/15\n",
            "100/100 - 3s - loss: 0.3666 - accuracy: 0.8697 - val_loss: 0.3591 - val_accuracy: 0.8686 - 3s/epoch - 29ms/step\n",
            "Epoch 4/15\n",
            "100/100 - 3s - loss: 0.3352 - accuracy: 0.8781 - val_loss: 0.3264 - val_accuracy: 0.8833 - 3s/epoch - 27ms/step\n",
            "Epoch 5/15\n",
            "100/100 - 3s - loss: 0.3132 - accuracy: 0.8860 - val_loss: 0.3344 - val_accuracy: 0.8789 - 3s/epoch - 27ms/step\n",
            "Epoch 6/15\n",
            "100/100 - 4s - loss: 0.2917 - accuracy: 0.8928 - val_loss: 0.3219 - val_accuracy: 0.8829 - 4s/epoch - 39ms/step\n",
            "Epoch 7/15\n",
            "100/100 - 3s - loss: 0.2766 - accuracy: 0.8984 - val_loss: 0.2998 - val_accuracy: 0.8907 - 3s/epoch - 27ms/step\n",
            "Epoch 8/15\n",
            "100/100 - 3s - loss: 0.2648 - accuracy: 0.9017 - val_loss: 0.3202 - val_accuracy: 0.8768 - 3s/epoch - 28ms/step\n",
            "Epoch 9/15\n",
            "100/100 - 3s - loss: 0.2508 - accuracy: 0.9069 - val_loss: 0.3010 - val_accuracy: 0.8903 - 3s/epoch - 27ms/step\n",
            "Epoch 10/15\n",
            "100/100 - 4s - loss: 0.2422 - accuracy: 0.9120 - val_loss: 0.2953 - val_accuracy: 0.8929 - 4s/epoch - 38ms/step\n",
            "Epoch 11/15\n",
            "100/100 - 3s - loss: 0.2338 - accuracy: 0.9136 - val_loss: 0.3002 - val_accuracy: 0.8916 - 3s/epoch - 28ms/step\n",
            "Epoch 12/15\n",
            "100/100 - 3s - loss: 0.2222 - accuracy: 0.9188 - val_loss: 0.2844 - val_accuracy: 0.8977 - 3s/epoch - 27ms/step\n",
            "Epoch 13/15\n",
            "100/100 - 3s - loss: 0.2133 - accuracy: 0.9217 - val_loss: 0.2873 - val_accuracy: 0.8982 - 3s/epoch - 26ms/step\n",
            "Epoch 14/15\n",
            "100/100 - 3s - loss: 0.2038 - accuracy: 0.9245 - val_loss: 0.2753 - val_accuracy: 0.9009 - 3s/epoch - 32ms/step\n",
            "Epoch 15/15\n",
            "100/100 - 3s - loss: 0.1953 - accuracy: 0.9288 - val_loss: 0.2854 - val_accuracy: 0.8959 - 3s/epoch - 34ms/step\n"
          ]
        }
      ]
    },
    {
      "cell_type": "code",
      "source": [
        "score = model.evaluate(x_test, y_test, verbose=0)\n",
        "print('Test loss: ', score[0])\n",
        "print('Test accuracy: ', score[1])"
      ],
      "metadata": {
        "colab": {
          "base_uri": "https://localhost:8080/"
        },
        "id": "0QRWRT4UxdQW",
        "outputId": "6f3069b6-b686-44c9-a270-c10b3b9d64c8"
      },
      "execution_count": 247,
      "outputs": [
        {
          "output_type": "stream",
          "name": "stdout",
          "text": [
            "Test loss:  0.31540176272392273\n",
            "Test accuracy:  0.8927000164985657\n"
          ]
        }
      ]
    },
    {
      "cell_type": "code",
      "source": [
        "# Збережемо параметри моделі\n",
        "model.save(\"my_model1\")"
      ],
      "metadata": {
        "id": "PzdvfLOZxnes"
      },
      "execution_count": 248,
      "outputs": []
    },
    {
      "cell_type": "code",
      "source": [
        "learn_rate = 0.001 # швидкість навчання нейронної мережі\n",
        "batch_size = 512 # перераховувати ваги мережі ми будемо не на всій вибірці, а на її випадковій підмножині з batch_size елементів\n",
        "n_hidden_1 = 784 # кількість нейронів 1-го шару\n",
        "n_hidden_2 = 128 # кількість нейронів 2-го шару\n",
        "n_hidden_3 = 64 # кількість нейронів 3-го шару"
      ],
      "metadata": {
        "id": "9kQNpPYdzeR7"
      },
      "execution_count": 249,
      "outputs": []
    },
    {
      "cell_type": "code",
      "source": [
        "(x_train, y_train), (x_test, y_test) = fashion_mnist.load_data()"
      ],
      "metadata": {
        "id": "QVKx6XEx3sX8"
      },
      "execution_count": 250,
      "outputs": []
    },
    {
      "cell_type": "code",
      "source": [
        "x_train, x_test = np.array(x_train, np.float32), np.array(x_test, np.float32)\n",
        "x_train, x_test = x_train.reshape([-1, num_features]), x_test.reshape([-1, num_features])\n",
        "x_train, x_test = x_train / 255., x_test / 255.\n",
        "train_data = tf.data.Dataset.from_tensor_slices((x_train, y_train))\n",
        "train_data = train_data.repeat().shuffle(4500).batch(batch_size).prefetch(1)"
      ],
      "metadata": {
        "id": "j4-nfQYT3z5a"
      },
      "execution_count": 251,
      "outputs": []
    },
    {
      "cell_type": "code",
      "source": [
        "X_train, X_val, y_train, y_val = train_test_split(x_train, y_train, test_size=0.2, random_state=12345)"
      ],
      "metadata": {
        "id": "v_mQZhL83yri"
      },
      "execution_count": 252,
      "outputs": []
    },
    {
      "cell_type": "code",
      "source": [
        "# Створимо нейронну мережу\n",
        "model2 = Sequential([\n",
        "    Dense(n_hidden_1, input_shape=(784,), activation='relu'),\n",
        "    Dropout(0.3),\n",
        "    Dense(n_hidden_2, activation='relu'),\n",
        "    Dropout(0.1),\n",
        "    Dense(n_hidden_3, activation='relu'),\n",
        "    Dense(10, activation='softmax')\n",
        "])"
      ],
      "metadata": {
        "id": "F5XQUfUG4Axh"
      },
      "execution_count": 253,
      "outputs": []
    },
    {
      "cell_type": "code",
      "source": [
        "model2.summary()"
      ],
      "metadata": {
        "colab": {
          "base_uri": "https://localhost:8080/"
        },
        "id": "4ttSAKHa4nPR",
        "outputId": "836fdd53-5257-46a9-9746-e13af2f376ac"
      },
      "execution_count": 254,
      "outputs": [
        {
          "output_type": "stream",
          "name": "stdout",
          "text": [
            "Model: \"sequential_22\"\n",
            "_________________________________________________________________\n",
            " Layer (type)                Output Shape              Param #   \n",
            "=================================================================\n",
            " dense_75 (Dense)            (None, 784)               615440    \n",
            "                                                                 \n",
            " dropout_17 (Dropout)        (None, 784)               0         \n",
            "                                                                 \n",
            " dense_76 (Dense)            (None, 128)               100480    \n",
            "                                                                 \n",
            " dropout_18 (Dropout)        (None, 128)               0         \n",
            "                                                                 \n",
            " dense_77 (Dense)            (None, 64)                8256      \n",
            "                                                                 \n",
            " dense_78 (Dense)            (None, 10)                650       \n",
            "                                                                 \n",
            "=================================================================\n",
            "Total params: 724826 (2.76 MB)\n",
            "Trainable params: 724826 (2.76 MB)\n",
            "Non-trainable params: 0 (0.00 Byte)\n",
            "_________________________________________________________________\n"
          ]
        }
      ]
    },
    {
      "cell_type": "code",
      "source": [
        "model2.compile(\n",
        "    optimizer=Adam(learning_rate=0.001),\n",
        "    loss='sparse_categorical_crossentropy',\n",
        "    metrics=['accuracy'])"
      ],
      "metadata": {
        "id": "hc4pnzPU49Ao"
      },
      "execution_count": 255,
      "outputs": []
    },
    {
      "cell_type": "code",
      "source": [
        "early_stopping = EarlyStopping('loss', patience=5)\n",
        "callbacks = [early_stopping]\n",
        "\n",
        "history3 = model2.fit(X_train, y_train, batch_size=batch_size,\n",
        "                    epochs=30,\n",
        "                    verbose=1,\n",
        "                    validation_data=(X_val, y_val),\n",
        "                      callbacks=callbacks)"
      ],
      "metadata": {
        "colab": {
          "base_uri": "https://localhost:8080/"
        },
        "id": "iMVyYEHf5Fmp",
        "outputId": "ca9ac2a2-a79a-4d5f-93c5-6877a5fc953e"
      },
      "execution_count": 256,
      "outputs": [
        {
          "output_type": "stream",
          "name": "stdout",
          "text": [
            "Epoch 1/30\n",
            "94/94 [==============================] - 9s 77ms/step - loss: 0.7123 - accuracy: 0.7463 - val_loss: 0.4364 - val_accuracy: 0.8481\n",
            "Epoch 2/30\n",
            "94/94 [==============================] - 5s 50ms/step - loss: 0.4495 - accuracy: 0.8378 - val_loss: 0.4022 - val_accuracy: 0.8560\n",
            "Epoch 3/30\n",
            "94/94 [==============================] - 6s 60ms/step - loss: 0.3970 - accuracy: 0.8565 - val_loss: 0.3394 - val_accuracy: 0.8807\n",
            "Epoch 4/30\n",
            "94/94 [==============================] - 5s 52ms/step - loss: 0.3639 - accuracy: 0.8674 - val_loss: 0.3319 - val_accuracy: 0.8836\n",
            "Epoch 5/30\n",
            "94/94 [==============================] - 5s 49ms/step - loss: 0.3457 - accuracy: 0.8730 - val_loss: 0.3137 - val_accuracy: 0.8882\n",
            "Epoch 6/30\n",
            "94/94 [==============================] - 6s 64ms/step - loss: 0.3281 - accuracy: 0.8789 - val_loss: 0.3075 - val_accuracy: 0.8932\n",
            "Epoch 7/30\n",
            "94/94 [==============================] - 5s 50ms/step - loss: 0.3134 - accuracy: 0.8837 - val_loss: 0.3059 - val_accuracy: 0.8914\n",
            "Epoch 8/30\n",
            "94/94 [==============================] - 5s 57ms/step - loss: 0.3085 - accuracy: 0.8846 - val_loss: 0.3026 - val_accuracy: 0.8938\n",
            "Epoch 9/30\n",
            "94/94 [==============================] - 5s 57ms/step - loss: 0.2942 - accuracy: 0.8913 - val_loss: 0.2947 - val_accuracy: 0.8922\n",
            "Epoch 10/30\n",
            "94/94 [==============================] - 5s 56ms/step - loss: 0.2879 - accuracy: 0.8940 - val_loss: 0.2890 - val_accuracy: 0.8960\n",
            "Epoch 11/30\n",
            "94/94 [==============================] - 7s 71ms/step - loss: 0.2784 - accuracy: 0.8961 - val_loss: 0.2860 - val_accuracy: 0.8978\n",
            "Epoch 12/30\n",
            "94/94 [==============================] - 5s 49ms/step - loss: 0.2722 - accuracy: 0.8981 - val_loss: 0.2779 - val_accuracy: 0.9007\n",
            "Epoch 13/30\n",
            "94/94 [==============================] - 6s 67ms/step - loss: 0.2670 - accuracy: 0.9005 - val_loss: 0.3049 - val_accuracy: 0.8872\n",
            "Epoch 14/30\n",
            "94/94 [==============================] - 4s 48ms/step - loss: 0.2655 - accuracy: 0.9006 - val_loss: 0.2788 - val_accuracy: 0.8991\n",
            "Epoch 15/30\n",
            "94/94 [==============================] - 5s 51ms/step - loss: 0.2550 - accuracy: 0.9030 - val_loss: 0.2856 - val_accuracy: 0.8977\n",
            "Epoch 16/30\n",
            "94/94 [==============================] - 6s 64ms/step - loss: 0.2488 - accuracy: 0.9066 - val_loss: 0.2757 - val_accuracy: 0.9032\n",
            "Epoch 17/30\n",
            "94/94 [==============================] - 5s 50ms/step - loss: 0.2433 - accuracy: 0.9080 - val_loss: 0.2710 - val_accuracy: 0.9034\n",
            "Epoch 18/30\n",
            "94/94 [==============================] - 6s 64ms/step - loss: 0.2436 - accuracy: 0.9076 - val_loss: 0.2736 - val_accuracy: 0.9035\n",
            "Epoch 19/30\n",
            "94/94 [==============================] - 5s 50ms/step - loss: 0.2362 - accuracy: 0.9110 - val_loss: 0.2718 - val_accuracy: 0.9046\n",
            "Epoch 20/30\n",
            "94/94 [==============================] - 5s 49ms/step - loss: 0.2300 - accuracy: 0.9134 - val_loss: 0.2776 - val_accuracy: 0.9056\n",
            "Epoch 21/30\n",
            "94/94 [==============================] - 6s 63ms/step - loss: 0.2265 - accuracy: 0.9146 - val_loss: 0.2774 - val_accuracy: 0.9025\n",
            "Epoch 22/30\n",
            "94/94 [==============================] - 5s 51ms/step - loss: 0.2259 - accuracy: 0.9138 - val_loss: 0.2667 - val_accuracy: 0.9066\n",
            "Epoch 23/30\n",
            "94/94 [==============================] - 6s 67ms/step - loss: 0.2225 - accuracy: 0.9154 - val_loss: 0.2836 - val_accuracy: 0.9025\n",
            "Epoch 24/30\n",
            "94/94 [==============================] - 4s 48ms/step - loss: 0.2195 - accuracy: 0.9160 - val_loss: 0.2815 - val_accuracy: 0.9053\n",
            "Epoch 25/30\n",
            "94/94 [==============================] - 5s 49ms/step - loss: 0.2160 - accuracy: 0.9180 - val_loss: 0.2769 - val_accuracy: 0.9054\n",
            "Epoch 26/30\n",
            "94/94 [==============================] - 6s 65ms/step - loss: 0.2096 - accuracy: 0.9199 - val_loss: 0.2667 - val_accuracy: 0.9054\n",
            "Epoch 27/30\n",
            "94/94 [==============================] - 5s 50ms/step - loss: 0.2039 - accuracy: 0.9225 - val_loss: 0.2756 - val_accuracy: 0.9058\n",
            "Epoch 28/30\n",
            "94/94 [==============================] - 6s 65ms/step - loss: 0.2040 - accuracy: 0.9218 - val_loss: 0.2797 - val_accuracy: 0.9064\n",
            "Epoch 29/30\n",
            "94/94 [==============================] - 5s 49ms/step - loss: 0.2042 - accuracy: 0.9222 - val_loss: 0.2778 - val_accuracy: 0.9045\n",
            "Epoch 30/30\n",
            "94/94 [==============================] - 5s 51ms/step - loss: 0.1993 - accuracy: 0.9246 - val_loss: 0.2720 - val_accuracy: 0.9060\n"
          ]
        }
      ]
    },
    {
      "cell_type": "code",
      "source": [
        "score = model2.evaluate(x_test, y_test, verbose=0)\n",
        "print('Test loss: ', score[0])\n",
        "print('Test accuracy: ', score[1])"
      ],
      "metadata": {
        "colab": {
          "base_uri": "https://localhost:8080/"
        },
        "id": "lcv1ZpTy5VAo",
        "outputId": "aa51665e-0d67-4c75-ed72-ff7e098b9ea7"
      },
      "execution_count": 257,
      "outputs": [
        {
          "output_type": "stream",
          "name": "stdout",
          "text": [
            "Test loss:  0.3095560669898987\n",
            "Test accuracy:  0.8938000202178955\n"
          ]
        }
      ]
    },
    {
      "cell_type": "code",
      "source": [
        "history_dict = history3.history\n",
        "loss_values = history_dict['loss']\n",
        "val_loss_values = history_dict['val_loss']\n",
        "\n",
        "epochs = range(1, len(history_dict['accuracy']) +1)\n",
        "\n",
        "plt.figure()\n",
        "plt.plot(epochs, loss_values, 'r*', label='Training loss')\n",
        "plt.plot(epochs, val_loss_values, 'r', label='Validation loss')\n",
        "plt.title('Training and Validation Loss')\n",
        "plt.xlabel('Epochs')\n",
        "plt.ylabel('Loss')\n",
        "plt.legend()\n",
        "plt.show()\n",
        "\n",
        "# Виведіть графік точності\n",
        "plt.clf()\n",
        "val_acc_values = history_dict['val_accuracy']\n",
        "acc_values = history_dict['accuracy']\n",
        "plt.plot(epochs, acc_values, 'bo', label='Training acc')\n",
        "plt.plot(epochs, val_acc_values, 'b', label='Validation acc')\n",
        "plt.title('Accuracy')\n",
        "plt.xlabel('Epochs')\n",
        "plt.ylabel('accuracy')\n",
        "plt.legend()\n",
        "plt.show()"
      ],
      "metadata": {
        "colab": {
          "base_uri": "https://localhost:8080/",
          "height": 927
        },
        "id": "-Xu4e4W15QaA",
        "outputId": "6a9b6783-19bb-4010-ccc7-16e926a20c75"
      },
      "execution_count": 258,
      "outputs": [
        {
          "output_type": "display_data",
          "data": {
            "text/plain": [
              "<Figure size 640x480 with 1 Axes>"
            ],
            "image/png": "[encoded data removed]"
          },
          "metadata": {}
        },
        {
          "output_type": "display_data",
          "data": {
            "text/plain": [
              "<Figure size 640x480 with 1 Axes>"
            ],
            "image/png": "[encoded data removed]"
          },
          "metadata": {}
        }
      ]
    },
    {
      "cell_type": "markdown",
      "source": [
        "For model2 make number epoch - 23"
      ],
      "metadata": {
        "id": "bM_tXsqcWQX1"
      }
    },
    {
      "cell_type": "code",
      "source": [
        "(x_train, y_train), (x_test, y_test) = fashion_mnist.load_data()\n",
        "x_train, x_test = np.array(x_train, np.float32), np.array(x_test, np.float32)\n",
        "x_train, x_test = x_train.reshape([-1, num_features]), x_test.reshape([-1, num_features])\n",
        "x_train, x_test = x_train / 255., x_test / 255.\n",
        "train_data = tf.data.Dataset.from_tensor_slices((x_train, y_train))\n",
        "train_data = train_data.repeat().shuffle(4000).batch(batch_size).prefetch(1)\n",
        "X_train, X_val, y_train, y_val = train_test_split(x_train, y_train, test_size=0.2, random_state=777)"
      ],
      "metadata": {
        "id": "CNfPi6ctNBB8"
      },
      "execution_count": 264,
      "outputs": []
    },
    {
      "cell_type": "code",
      "source": [
        "model3 = Sequential([\n",
        "    Dense(n_hidden_1, input_shape=(784,), activation='relu'),\n",
        "    Dropout(0.3),\n",
        "    Dense(n_hidden_2, activation='relu'),\n",
        "    Dropout(0.1),\n",
        "    Dense(n_hidden_3, activation='relu'),\n",
        "    Dense(10, activation='softmax')\n",
        "])"
      ],
      "metadata": {
        "id": "1HKUqj7eXHKL"
      },
      "execution_count": 265,
      "outputs": []
    },
    {
      "cell_type": "code",
      "source": [
        "model3.compile(\n",
        "    optimizer=Adam(learning_rate=0.001),\n",
        "    loss='sparse_categorical_crossentropy',\n",
        "    metrics=['accuracy'])"
      ],
      "metadata": {
        "id": "bYXvdcoJWr4Y"
      },
      "execution_count": 266,
      "outputs": []
    },
    {
      "cell_type": "code",
      "source": [
        "early_stopping = EarlyStopping('loss', patience=5)\n",
        "callbacks = [early_stopping]\n",
        "\n",
        "history4 = model3.fit(X_train, y_train, batch_size=batch_size,\n",
        "                    epochs=23,\n",
        "                    verbose=1,\n",
        "                    validation_data=(X_val, y_val),\n",
        "                      callbacks=callbacks)"
      ],
      "metadata": {
        "colab": {
          "base_uri": "https://localhost:8080/"
        },
        "id": "zdRhCkfoNXkD",
        "outputId": "2572a042-b3c6-4c7e-8edd-30db360b34d7"
      },
      "execution_count": 267,
      "outputs": [
        {
          "output_type": "stream",
          "name": "stdout",
          "text": [
            "Epoch 1/23\n",
            "94/94 [==============================] - 6s 50ms/step - loss: 0.6900 - accuracy: 0.7545 - val_loss: 0.4273 - val_accuracy: 0.8478\n",
            "Epoch 2/23\n",
            "94/94 [==============================] - 6s 64ms/step - loss: 0.4401 - accuracy: 0.8405 - val_loss: 0.3702 - val_accuracy: 0.8645\n",
            "Epoch 3/23\n",
            "94/94 [==============================] - 7s 73ms/step - loss: 0.3861 - accuracy: 0.8601 - val_loss: 0.3581 - val_accuracy: 0.8676\n",
            "Epoch 4/23\n",
            "94/94 [==============================] - 5s 54ms/step - loss: 0.3650 - accuracy: 0.8662 - val_loss: 0.3345 - val_accuracy: 0.8779\n",
            "Epoch 5/23\n",
            "94/94 [==============================] - 5s 58ms/step - loss: 0.3402 - accuracy: 0.8747 - val_loss: 0.3187 - val_accuracy: 0.8858\n",
            "Epoch 6/23\n",
            "94/94 [==============================] - 5s 50ms/step - loss: 0.3255 - accuracy: 0.8787 - val_loss: 0.3167 - val_accuracy: 0.8831\n",
            "Epoch 7/23\n",
            "94/94 [==============================] - 6s 63ms/step - loss: 0.3138 - accuracy: 0.8842 - val_loss: 0.3037 - val_accuracy: 0.8894\n",
            "Epoch 8/23\n",
            "94/94 [==============================] - 5s 51ms/step - loss: 0.3025 - accuracy: 0.8881 - val_loss: 0.2987 - val_accuracy: 0.8914\n",
            "Epoch 9/23\n",
            "94/94 [==============================] - 9s 92ms/step - loss: 0.2926 - accuracy: 0.8916 - val_loss: 0.2954 - val_accuracy: 0.8928\n",
            "Epoch 10/23\n",
            "94/94 [==============================] - 5s 54ms/step - loss: 0.2858 - accuracy: 0.8939 - val_loss: 0.2903 - val_accuracy: 0.8942\n",
            "Epoch 11/23\n",
            "94/94 [==============================] - 5s 49ms/step - loss: 0.2804 - accuracy: 0.8964 - val_loss: 0.2904 - val_accuracy: 0.8936\n",
            "Epoch 12/23\n",
            "94/94 [==============================] - 6s 67ms/step - loss: 0.2707 - accuracy: 0.8988 - val_loss: 0.2834 - val_accuracy: 0.8984\n",
            "Epoch 13/23\n",
            "94/94 [==============================] - 5s 51ms/step - loss: 0.2622 - accuracy: 0.9016 - val_loss: 0.2819 - val_accuracy: 0.8982\n",
            "Epoch 14/23\n",
            "94/94 [==============================] - 6s 64ms/step - loss: 0.2584 - accuracy: 0.9019 - val_loss: 0.3020 - val_accuracy: 0.8925\n",
            "Epoch 15/23\n",
            "94/94 [==============================] - 5s 49ms/step - loss: 0.2557 - accuracy: 0.9045 - val_loss: 0.2744 - val_accuracy: 0.9034\n",
            "Epoch 16/23\n",
            "94/94 [==============================] - 5s 52ms/step - loss: 0.2478 - accuracy: 0.9072 - val_loss: 0.2828 - val_accuracy: 0.9007\n",
            "Epoch 17/23\n",
            "94/94 [==============================] - 6s 62ms/step - loss: 0.2431 - accuracy: 0.9092 - val_loss: 0.2866 - val_accuracy: 0.8962\n",
            "Epoch 18/23\n",
            "94/94 [==============================] - 4s 46ms/step - loss: 0.2360 - accuracy: 0.9117 - val_loss: 0.2925 - val_accuracy: 0.8952\n",
            "Epoch 19/23\n",
            "94/94 [==============================] - 6s 61ms/step - loss: 0.2357 - accuracy: 0.9106 - val_loss: 0.2763 - val_accuracy: 0.9022\n",
            "Epoch 20/23\n",
            "94/94 [==============================] - 5s 49ms/step - loss: 0.2316 - accuracy: 0.9118 - val_loss: 0.2751 - val_accuracy: 0.9032\n",
            "Epoch 21/23\n",
            "94/94 [==============================] - 5s 50ms/step - loss: 0.2262 - accuracy: 0.9143 - val_loss: 0.2722 - val_accuracy: 0.9078\n",
            "Epoch 22/23\n",
            "94/94 [==============================] - 6s 65ms/step - loss: 0.2223 - accuracy: 0.9160 - val_loss: 0.2687 - val_accuracy: 0.9057\n",
            "Epoch 23/23\n",
            "94/94 [==============================] - 5s 49ms/step - loss: 0.2179 - accuracy: 0.9174 - val_loss: 0.2716 - val_accuracy: 0.9062\n"
          ]
        }
      ]
    },
    {
      "cell_type": "code",
      "source": [
        "score = model3.evaluate(x_test, y_test, verbose=0)\n",
        "print('Test loss: ', score[0])\n",
        "print('Test accuracy: ', score[1])"
      ],
      "metadata": {
        "colab": {
          "base_uri": "https://localhost:8080/"
        },
        "id": "Ok-bTkoDOlpA",
        "outputId": "848bda25-b87d-4bfe-b039-7d93bb9c412d"
      },
      "execution_count": 268,
      "outputs": [
        {
          "output_type": "stream",
          "name": "stdout",
          "text": [
            "Test loss:  0.3149718642234802\n",
            "Test accuracy:  0.8924999833106995\n"
          ]
        }
      ]
    },
    {
      "cell_type": "code",
      "source": [
        "history_dict = history4.history\n",
        "loss_values = history_dict['loss']\n",
        "val_loss_values = history_dict['val_loss']\n",
        "\n",
        "epochs = range(1, len(history_dict['accuracy']) +1)\n",
        "\n",
        "plt.figure()\n",
        "plt.plot(epochs, loss_values, 'r*', label='Training loss')\n",
        "plt.plot(epochs, val_loss_values, 'r', label='Validation loss')\n",
        "plt.title('Training and Validation Loss')\n",
        "plt.xlabel('Epochs')\n",
        "plt.ylabel('Loss')\n",
        "plt.legend()\n",
        "plt.show()\n",
        "\n",
        "# Виведіть графік точності\n",
        "plt.clf()\n",
        "val_acc_values = history_dict['val_accuracy']\n",
        "acc_values = history_dict['accuracy']\n",
        "plt.plot(epochs, acc_values, 'bo', label='Training acc')\n",
        "plt.plot(epochs, val_acc_values, 'b', label='Validation acc')\n",
        "plt.title('Accuracy')\n",
        "plt.xlabel('Epochs')\n",
        "plt.ylabel('accuracy')\n",
        "plt.legend()\n",
        "plt.show()"
      ],
      "metadata": {
        "colab": {
          "base_uri": "https://localhost:8080/",
          "height": 927
        },
        "id": "WzXhXwTJNhHf",
        "outputId": "ffde86c5-f9f7-47c7-b7e9-29089e1f443f"
      },
      "execution_count": 269,
      "outputs": [
        {
          "output_type": "display_data",
          "data": {
            "text/plain": [
              "<Figure size 640x480 with 1 Axes>"
            ],
            "image/png": "[encoded data removed]"
          },
          "metadata": {}
        },
        {
          "output_type": "display_data",
          "data": {
            "text/plain": [
              "<Figure size 640x480 with 1 Axes>"
            ],
            "image/png": "[encoded data removed]"
          },
          "metadata": {}
        }
      ]
    },
    {
      "cell_type": "markdown",
      "source": [
        "## Висновок"
      ],
      "metadata": {
        "id": "Zjx8L78AX-vg"
      }
    },
    {
      "cell_type": "markdown",
      "source": [
        "Кращі результати на тесті показала модель2 з кількістю епох 30.\n",
        "*  Test loss:  0.3095560669898987\n",
        "\n",
        "*   Test accuracy:  0.8938000202178955"
      ],
      "metadata": {
        "id": "0W6MXSjuYE55"
      }
    },
    {
      "cell_type": "markdown",
      "source": [
        "model2:\n",
        "*   Dense(784, input_shape=(784,), activation='relu'),\n",
        "*   Dropout(0.3),  \n",
        "*   Dense(128, activation='relu'),\n",
        "*   Dropout(0.1),\n",
        "\n",
        "\n",
        "*   Dense(64, activation='relu'),\n",
        "*   Dense(10, activation='softmax')"
      ],
      "metadata": {
        "id": "yLUcv-BjYoHD"
      }
    }
  ],
  "metadata": {
    "colab": {
      "provenance": [],
      "toc_visible": true,
      "include_colab_link": true
    },
    "kernelspec": {
      "display_name": "Python 3 (ipykernel)",
      "language": "python",
      "name": "python3"
    },
    "language_info": {
      "codemirror_mode": {
        "name": "ipython",
        "version": 3
      },
      "file_extension": ".py",
      "mimetype": "text/x-python",
      "name": "python",
      "nbconvert_exporter": "python",
      "pygments_lexer": "ipython3",
      "version": "3.9.2"
    }
  },
  "nbformat": 4,
  "nbformat_minor": 0
}