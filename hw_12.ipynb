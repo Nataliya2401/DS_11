{
  "cells": [
    {
      "cell_type": "markdown",
      "metadata": {
        "id": "view-in-github",
        "colab_type": "text"
      },
      "source": [
        "<a href=\"https://colab.research.google.com/github/Nataliya2401/DS_11/blob/main/hw_12.ipynb\" target=\"_parent\"><img src=\"https://colab.research.google.com/assets/colab-badge.svg\" alt=\"Open In Colab\"/></a>"
      ]
    },
    {
      "cell_type": "code",
      "execution_count": 1,
      "metadata": {
        "id": "il_0_5OyUSNR"
      },
      "outputs": [],
      "source": [
        "import string\n",
        "import spacy\n",
        "import nltk\n",
        "from nltk.corpus import stopwords\n",
        "from nltk.tokenize import word_tokenize, sent_tokenize\n",
        "\n",
        "from spacy.lang.en.stop_words import STOP_WORDS\n",
        "from heapq import nlargest"
      ]
    },
    {
      "cell_type": "code",
      "source": [
        "from collections import Counter"
      ],
      "metadata": {
        "id": "cgOl9SlE7Xqj"
      },
      "execution_count": 16,
      "outputs": []
    },
    {
      "cell_type": "markdown",
      "source": [
        "# NLTK"
      ],
      "metadata": {
        "id": "siuIylTBV-96"
      }
    },
    {
      "cell_type": "code",
      "source": [
        "text = 'The Orbiter Discovery, OV-103, is considered eligible for listing in the National Register of Historic Places (NRHP) in the context of the U.S. Space Shuttle Program (1969-2011) under Criterion A in the areas of Space Exploration and Transportation and under Criterion C in the area of Engineering. Because it has achieved significance within the past fifty years, Criteria Consideration G applies. Under Criterion A, Discovery is significant as the oldest of the three extant orbiter vehicles constructed for the Space Shuttle Program (SSP), the longest running American space program to date; she was the third of five orbiters built by NASA. Unlike the Mercury, Gemini, and Apollo programs, the SSP’s emphasis was on cost effectiveness and reusability, and eventually the construction of a space station. Including her maiden voyage (launched August 30, 1984), Discovery flew to space thirty-nine times, more than any of the other four orbiters; she was also the first orbiter to fly twenty missions. She had the honor of being chosen as the Return to Flight vehicle after both the Challenger and Columbia accidents. Discovery was the first shuttle to fly with the redesigned SRBs, a result of the Challenger accident, and the first shuttle to fly with the Phase II and Block I SSME. Discovery also carried the Hubble Space Telescope to orbit and performed two of the five servicing missions to the observatory. She flew the first and last dedicated Department of Defense (DoD) missions, as well as the first unclassified defense-related mission. In addition, Discovery was vital to the construction of the International Space Station (ISS); she flew thirteen of the thirty-seven total missions flown to the station by a U.S. Space Shuttle. She was the first orbiter to dock to the ISS, and the first to perform an exchange of a resident crew. Under Criterion C, Discovery is significant as a feat of engineering. According to Wayne Hale, a flight director from Johnson Space Center, the Space Shuttle orbiter represents a “huge technological leap from expendable rockets and capsules to a reusable, winged, hypersonic, cargo-carrying spacecraft.” Although her base structure followed a conventional aircraft design, she used advanced materials that both minimized her weight for cargo-carrying purposes and featured low thermal expansion ratios, which provided a stable base for her Thermal Protection System (TPS) materials. The Space Shuttle orbiter also featured the first reusable TPS; all previous spaceflight vehicles had a single-use, ablative heat shield. Other notable engineering achievements of the orbiter included the first reusable orbital propulsion system, and the first two-fault-tolerant Integrated Avionics System. As Hale stated, the Space Shuttle remains “the largest, fastest, winged hypersonic aircraft in history,” having regularly flown at twenty-five times the speed of sound.'"
      ],
      "metadata": {
        "id": "pHfmjz6gWB9u"
      },
      "execution_count": 2,
      "outputs": []
    },
    {
      "cell_type": "code",
      "source": [
        "nltk.download('stopwords')"
      ],
      "metadata": {
        "colab": {
          "base_uri": "https://localhost:8080/"
        },
        "id": "hPhK9SbwYYaE",
        "outputId": "e423793a-9682-47da-9671-d38f67437037"
      },
      "execution_count": 6,
      "outputs": [
        {
          "output_type": "stream",
          "name": "stderr",
          "text": [
            "[nltk_data] Downloading package stopwords to /root/nltk_data...\n",
            "[nltk_data]   Unzipping corpora/stopwords.zip.\n"
          ]
        },
        {
          "output_type": "execute_result",
          "data": {
            "text/plain": [
              "True"
            ]
          },
          "metadata": {},
          "execution_count": 6
        }
      ]
    },
    {
      "cell_type": "code",
      "source": [
        "nltk.download('punkt')"
      ],
      "metadata": {
        "colab": {
          "base_uri": "https://localhost:8080/"
        },
        "id": "aK6kBo6_2WIk",
        "outputId": "27ee95da-c6d2-48b8-84ac-5c48e1001795"
      },
      "execution_count": 7,
      "outputs": [
        {
          "output_type": "stream",
          "name": "stderr",
          "text": [
            "[nltk_data] Downloading package punkt to /root/nltk_data...\n",
            "[nltk_data]   Unzipping tokenizers/punkt.zip.\n"
          ]
        },
        {
          "output_type": "execute_result",
          "data": {
            "text/plain": [
              "True"
            ]
          },
          "metadata": {},
          "execution_count": 7
        }
      ]
    },
    {
      "cell_type": "code",
      "source": [
        "#  Видалення стоп слів та знаків пунктуації\n",
        "stop_words = set(stopwords.words('english'))\n",
        "punctuation = string.punctuation + '\\n' + '“' + '”'\n",
        "tokens_nltk = word_tokenize(text)\n",
        "sentences = sent_tokenize(text)"
      ],
      "metadata": {
        "id": "zpurVR5WWwTf"
      },
      "execution_count": 47,
      "outputs": []
    },
    {
      "cell_type": "code",
      "source": [
        "print(len(sentences), len(tokens_nltk))"
      ],
      "metadata": {
        "colab": {
          "base_uri": "https://localhost:8080/"
        },
        "id": "Az2WrdprZMy9",
        "outputId": "44b49400-4f5d-455b-bdbe-040256716fbf"
      },
      "execution_count": 9,
      "outputs": [
        {
          "output_type": "stream",
          "name": "stdout",
          "text": [
            "16 519\n"
          ]
        }
      ]
    },
    {
      "cell_type": "code",
      "source": [
        "print(list(punctuation))"
      ],
      "metadata": {
        "colab": {
          "base_uri": "https://localhost:8080/"
        },
        "id": "c8I83XGrSFM5",
        "outputId": "d7ea6a96-06bc-4d99-afbc-72db8fc2cbc6"
      },
      "execution_count": 48,
      "outputs": [
        {
          "output_type": "stream",
          "name": "stdout",
          "text": [
            "['!', '\"', '#', '$', '%', '&', \"'\", '(', ')', '*', '+', ',', '-', '.', '/', ':', ';', '<', '=', '>', '?', '@', '[', '\\\\', ']', '^', '_', '`', '{', '|', '}', '~', '\\n', '“', '”']\n"
          ]
        }
      ]
    },
    {
      "cell_type": "code",
      "source": [
        "print(stop_words)"
      ],
      "metadata": {
        "colab": {
          "base_uri": "https://localhost:8080/"
        },
        "id": "cs96FjdVBUY7",
        "outputId": "96d877ce-03ed-492e-a3dc-475f01bbff23"
      },
      "execution_count": 11,
      "outputs": [
        {
          "output_type": "stream",
          "name": "stdout",
          "text": [
            "{'myself', 'be', 'the', \"needn't\", 'same', \"doesn't\", 'won', 'what', 'itself', 'such', 'don', 'mightn', 'again', \"wouldn't\", 'after', 'for', 'd', 'our', 'its', 'very', 'before', 'their', \"don't\", 'ourselves', 'above', 'doing', 'to', 'isn', 'being', 'few', 'how', 'while', \"haven't\", 'there', \"should've\", 'am', 'does', 'yours', 'they', 'too', 'll', 'needn', 'shan', 'because', 'o', 'between', 'ours', 'through', 'over', 've', 'been', 'my', 'her', \"hadn't\", 'we', 'each', 'of', 'than', 'at', 'nor', \"won't\", 'will', \"weren't\", 'from', 'himself', 'below', 'm', 'ain', 'down', \"didn't\", 'theirs', 'having', 'further', 'ma', 'he', 'so', 'more', 'if', 'you', 'wouldn', 'or', 'an', 'she', 'on', 'only', \"you're\", 'just', \"aren't\", 'have', 'and', 'which', 'a', 'doesn', 'out', \"you've\", 'yourself', 'didn', \"shan't\", 'by', \"she's\", 'own', \"isn't\", 'now', \"you'd\", 'all', 'couldn', 'most', \"wasn't\", 'this', 'shouldn', 's', 'was', 'yourselves', \"couldn't\", 'then', 'any', 'other', 'aren', 'those', 'into', 'has', 'should', 'some', \"hasn't\", 'wasn', 'had', 'are', 'your', 'did', 'hers', 'them', 'not', 'that', 'with', 'do', 'no', 'themselves', 'is', 'off', \"shouldn't\", 'during', 'where', 'him', 'once', 'against', 'hasn', 'mustn', 'haven', 'me', 'why', 'until', 'as', 'in', \"it's\", \"mightn't\", 'it', 'under', 'whom', \"you'll\", 'here', 'both', 're', 'about', 'who', 'up', 'i', 'when', 't', 'weren', \"that'll\", 'can', 'but', 'were', \"mustn't\", 'his', 'y', 'herself', 'these', 'hadn'}\n"
          ]
        }
      ]
    },
    {
      "cell_type": "code",
      "source": [
        "keywords_nltk = [word.lower() for word in tokens_nltk if word not in stop_words and word not in punctuation ]\n",
        "len(keywords_nltk)"
      ],
      "metadata": {
        "colab": {
          "base_uri": "https://localhost:8080/"
        },
        "id": "oWLBkb5TAQq-",
        "outputId": "bb59021d-bbde-4525-b622-b5af4834f3a5"
      },
      "execution_count": 50,
      "outputs": [
        {
          "output_type": "execute_result",
          "data": {
            "text/plain": [
              "289"
            ]
          },
          "metadata": {},
          "execution_count": 50
        }
      ]
    },
    {
      "cell_type": "code",
      "source": [
        "freq_word_1 = Counter(keywords_nltk)\n",
        "freq_word_1.most_common(5)"
      ],
      "metadata": {
        "colab": {
          "base_uri": "https://localhost:8080/"
        },
        "id": "xAUkvENOD3zH",
        "outputId": "2c3eb914-e293-4706-86b3-b045a2b3cb1f"
      },
      "execution_count": 51,
      "outputs": [
        {
          "output_type": "execute_result",
          "data": {
            "text/plain": [
              "[('space', 13),\n",
              " ('first', 10),\n",
              " ('shuttle', 8),\n",
              " ('orbiter', 7),\n",
              " ('discovery', 7)]"
            ]
          },
          "metadata": {},
          "execution_count": 51
        }
      ]
    },
    {
      "cell_type": "code",
      "source": [
        "#  normalization\n",
        "max_freq = Counter(keywords_nltk).most_common(1)[0][1]\n",
        "max_freq"
      ],
      "metadata": {
        "colab": {
          "base_uri": "https://localhost:8080/"
        },
        "id": "j7EKdY1zWprQ",
        "outputId": "3d00a976-df1b-4ec7-e8e4-32228850d92c"
      },
      "execution_count": 53,
      "outputs": [
        {
          "output_type": "execute_result",
          "data": {
            "text/plain": [
              "13"
            ]
          },
          "metadata": {},
          "execution_count": 53
        }
      ]
    },
    {
      "cell_type": "code",
      "source": [
        "norm_token = {word: v / max_freq for (word, v) in freq_word_1.items() }"
      ],
      "metadata": {
        "id": "cAkHbmiBaghI"
      },
      "execution_count": 54,
      "outputs": []
    },
    {
      "cell_type": "code",
      "source": [
        "print(norm_token['stable'])"
      ],
      "metadata": {
        "colab": {
          "base_uri": "https://localhost:8080/"
        },
        "id": "RbGhan3WbalR",
        "outputId": "f08279ad-3b02-4d2e-cb8f-9fb3b62cff12"
      },
      "execution_count": 57,
      "outputs": [
        {
          "output_type": "stream",
          "name": "stdout",
          "text": [
            "0.07692307692307693\n"
          ]
        }
      ]
    },
    {
      "cell_type": "code",
      "source": [
        "len(freq_word_1)"
      ],
      "metadata": {
        "colab": {
          "base_uri": "https://localhost:8080/"
        },
        "id": "P057I5DGYzGZ",
        "outputId": "4729dc71-8ac6-42ca-8518-347d6efcdcbc"
      },
      "execution_count": 58,
      "outputs": [
        {
          "output_type": "execute_result",
          "data": {
            "text/plain": [
              "199"
            ]
          },
          "metadata": {},
          "execution_count": 58
        }
      ]
    },
    {
      "cell_type": "code",
      "source": [
        "# weitin sentences\n",
        "sent_weights = {}\n",
        "for sent in sentences:\n",
        "  for word in sent:\n",
        "    if word in freq_word_1.keys():\n",
        "      if sent in sent_weights.keys():\n",
        "        sent_weights[sent] += norm_token[word]\n",
        "      else:\n",
        "        sent_weights[sent] = norm_token[word]\n",
        "\n",
        "for t, v in sent_weights.items():\n",
        "  print(t, v)"
      ],
      "metadata": {
        "colab": {
          "base_uri": "https://localhost:8080/"
        },
        "id": "ElLjbM099Usa",
        "outputId": "caad51ce-38d7-48c7-e4ee-d3b5cdb19fcc"
      },
      "execution_count": 67,
      "outputs": [
        {
          "output_type": "stream",
          "name": "stdout",
          "text": [
            "The Orbiter Discovery, OV-103, is considered eligible for listing in the National Register of Historic Places (NRHP) in the context of the U.S. Space Shuttle Program (1969-2011) under Criterion A in the areas of Space Exploration and Transportation and under Criterion C in the area of Engineering. 5.692307692307692\n",
            "Because it has achieved significance within the past fifty years, Criteria Consideration G applies. 3.076923076923077\n",
            "Under Criterion A, Discovery is significant as the oldest of the three extant orbiter vehicles constructed for the Space Shuttle Program (SSP), the longest running American space program to date; she was the third of five orbiters built by NASA. 4.307692307692307\n",
            "Unlike the Mercury, Gemini, and Apollo programs, the SSP’s emphasis was on cost effectiveness and reusability, and eventually the construction of a space station. 3.461538461538461\n",
            "Including her maiden voyage (launched August 30, 1984), Discovery flew to space thirty-nine times, more than any of the other four orbiters; she was also the first orbiter to fly twenty missions. 2.9230769230769234\n",
            "She had the honor of being chosen as the Return to Flight vehicle after both the Challenger and Columbia accidents. 2.3076923076923075\n",
            "Discovery was the first shuttle to fly with the redesigned SRBs, a result of the Challenger accident, and the first shuttle to fly with the Phase II and Block I SSME. 2.384615384615384\n",
            "Discovery also carried the Hubble Space Telescope to orbit and performed two of the five servicing missions to the observatory. 2.2307692307692304\n",
            "She flew the first and last dedicated Department of Defense (DoD) missions, as well as the first unclassified defense-related mission. 2.230769230769231\n",
            "In addition, Discovery was vital to the construction of the International Space Station (ISS); she flew thirteen of the thirty-seven total missions flown to the station by a U.S. Space Shuttle. 3.384615384615385\n",
            "She was the first orbiter to dock to the ISS, and the first to perform an exchange of a resident crew. 1.6153846153846154\n",
            "Under Criterion C, Discovery is significant as a feat of engineering. 1.8461538461538458\n",
            "According to Wayne Hale, a flight director from Johnson Space Center, the Space Shuttle orbiter represents a “huge technological leap from expendable rockets and capsules to a reusable, winged, hypersonic, cargo-carrying spacecraft.” Although her base structure followed a conventional aircraft design, she used advanced materials that both minimized her weight for cargo-carrying purposes and featured low thermal expansion ratios, which provided a stable base for her Thermal Protection System (TPS) materials. 12.230769230769218\n",
            "The Space Shuttle orbiter also featured the first reusable TPS; all previous spaceflight vehicles had a single-use, ablative heat shield. 2.9230769230769234\n",
            "Other notable engineering achievements of the orbiter included the first reusable orbital propulsion system, and the first two-fault-tolerant Integrated Avionics System. 2.7692307692307696\n",
            "As Hale stated, the Space Shuttle remains “the largest, fastest, winged hypersonic aircraft in history,” having regularly flown at twenty-five times the speed of sound. 3.1538461538461546\n"
          ]
        }
      ]
    },
    {
      "cell_type": "code",
      "source": [
        "summary = nlargest(4, sent_weights, key=sent_weights.get)"
      ],
      "metadata": {
        "id": "d9nSKpomHwHf"
      },
      "execution_count": 74,
      "outputs": []
    },
    {
      "cell_type": "code",
      "source": [
        "for s in summary:\n",
        "  print(s,'\\n')"
      ],
      "metadata": {
        "colab": {
          "base_uri": "https://localhost:8080/"
        },
        "id": "7-RBGxGnJ5UY",
        "outputId": "4a68e156-8a3d-418a-9dce-6eb45590cd65"
      },
      "execution_count": 76,
      "outputs": [
        {
          "output_type": "stream",
          "name": "stdout",
          "text": [
            "According to Wayne Hale, a flight director from Johnson Space Center, the Space Shuttle orbiter represents a “huge technological leap from expendable rockets and capsules to a reusable, winged, hypersonic, cargo-carrying spacecraft.” Although her base structure followed a conventional aircraft design, she used advanced materials that both minimized her weight for cargo-carrying purposes and featured low thermal expansion ratios, which provided a stable base for her Thermal Protection System (TPS) materials. \n",
            "\n",
            "The Orbiter Discovery, OV-103, is considered eligible for listing in the National Register of Historic Places (NRHP) in the context of the U.S. Space Shuttle Program (1969-2011) under Criterion A in the areas of Space Exploration and Transportation and under Criterion C in the area of Engineering. \n",
            "\n",
            "Under Criterion A, Discovery is significant as the oldest of the three extant orbiter vehicles constructed for the Space Shuttle Program (SSP), the longest running American space program to date; she was the third of five orbiters built by NASA. \n",
            "\n",
            "Unlike the Mercury, Gemini, and Apollo programs, the SSP’s emphasis was on cost effectiveness and reusability, and eventually the construction of a space station. \n",
            "\n"
          ]
        }
      ]
    },
    {
      "cell_type": "markdown",
      "source": [
        "# Spacy"
      ],
      "metadata": {
        "id": "94a8ipueDqJP"
      }
    },
    {
      "cell_type": "code",
      "source": [
        "nlp = spacy.load('en_core_web_sm')"
      ],
      "metadata": {
        "id": "wR9azTUgWL4Y"
      },
      "execution_count": 3,
      "outputs": []
    },
    {
      "cell_type": "code",
      "source": [
        "doc = nlp(text)\n",
        "tokens = [token.text for token in doc]\n",
        "print(tokens, '\\n', len(tokens))"
      ],
      "metadata": {
        "colab": {
          "base_uri": "https://localhost:8080/"
        },
        "id": "4DYlfLnaWXNo",
        "outputId": "f4283f9c-cabf-4fad-e9cb-fac52d8cbb7e"
      },
      "execution_count": 4,
      "outputs": [
        {
          "output_type": "stream",
          "name": "stdout",
          "text": [
            "['The', 'Orbiter', 'Discovery', ',', 'OV-103', ',', 'is', 'considered', 'eligible', 'for', 'listing', 'in', 'the', 'National', 'Register', 'of', 'Historic', 'Places', '(', 'NRHP', ')', 'in', 'the', 'context', 'of', 'the', 'U.S.', 'Space', 'Shuttle', 'Program', '(', '1969', '-', '2011', ')', 'under', 'Criterion', 'A', 'in', 'the', 'areas', 'of', 'Space', 'Exploration', 'and', 'Transportation', 'and', 'under', 'Criterion', 'C', 'in', 'the', 'area', 'of', 'Engineering', '.', 'Because', 'it', 'has', 'achieved', 'significance', 'within', 'the', 'past', 'fifty', 'years', ',', 'Criteria', 'Consideration', 'G', 'applies', '.', 'Under', 'Criterion', 'A', ',', 'Discovery', 'is', 'significant', 'as', 'the', 'oldest', 'of', 'the', 'three', 'extant', 'orbiter', 'vehicles', 'constructed', 'for', 'the', 'Space', 'Shuttle', 'Program', '(', 'SSP', ')', ',', 'the', 'longest', 'running', 'American', 'space', 'program', 'to', 'date', ';', 'she', 'was', 'the', 'third', 'of', 'five', 'orbiters', 'built', 'by', 'NASA', '.', 'Unlike', 'the', 'Mercury', ',', 'Gemini', ',', 'and', 'Apollo', 'programs', ',', 'the', 'SSP', '’s', 'emphasis', 'was', 'on', 'cost', 'effectiveness', 'and', 'reusability', ',', 'and', 'eventually', 'the', 'construction', 'of', 'a', 'space', 'station', '.', 'Including', 'her', 'maiden', 'voyage', '(', 'launched', 'August', '30', ',', '1984', ')', ',', 'Discovery', 'flew', 'to', 'space', 'thirty', '-', 'nine', 'times', ',', 'more', 'than', 'any', 'of', 'the', 'other', 'four', 'orbiters', ';', 'she', 'was', 'also', 'the', 'first', 'orbiter', 'to', 'fly', 'twenty', 'missions', '.', 'She', 'had', 'the', 'honor', 'of', 'being', 'chosen', 'as', 'the', 'Return', 'to', 'Flight', 'vehicle', 'after', 'both', 'the', 'Challenger', 'and', 'Columbia', 'accidents', '.', 'Discovery', 'was', 'the', 'first', 'shuttle', 'to', 'fly', 'with', 'the', 'redesigned', 'SRBs', ',', 'a', 'result', 'of', 'the', 'Challenger', 'accident', ',', 'and', 'the', 'first', 'shuttle', 'to', 'fly', 'with', 'the', 'Phase', 'II', 'and', 'Block', 'I', 'SSME', '.', 'Discovery', 'also', 'carried', 'the', 'Hubble', 'Space', 'Telescope', 'to', 'orbit', 'and', 'performed', 'two', 'of', 'the', 'five', 'servicing', 'missions', 'to', 'the', 'observatory', '.', 'She', 'flew', 'the', 'first', 'and', 'last', 'dedicated', 'Department', 'of', 'Defense', '(', 'DoD', ')', 'missions', ',', 'as', 'well', 'as', 'the', 'first', 'unclassified', 'defense', '-', 'related', 'mission', '.', 'In', 'addition', ',', 'Discovery', 'was', 'vital', 'to', 'the', 'construction', 'of', 'the', 'International', 'Space', 'Station', '(', 'ISS', ')', ';', 'she', 'flew', 'thirteen', 'of', 'the', 'thirty', '-', 'seven', 'total', 'missions', 'flown', 'to', 'the', 'station', 'by', 'a', 'U.S.', 'Space', 'Shuttle', '.', 'She', 'was', 'the', 'first', 'orbiter', 'to', 'dock', 'to', 'the', 'ISS', ',', 'and', 'the', 'first', 'to', 'perform', 'an', 'exchange', 'of', 'a', 'resident', 'crew', '.', 'Under', 'Criterion', 'C', ',', 'Discovery', 'is', 'significant', 'as', 'a', 'feat', 'of', 'engineering', '.', 'According', 'to', 'Wayne', 'Hale', ',', 'a', 'flight', 'director', 'from', 'Johnson', 'Space', 'Center', ',', 'the', 'Space', 'Shuttle', 'orbiter', 'represents', 'a', '“', 'huge', 'technological', 'leap', 'from', 'expendable', 'rockets', 'and', 'capsules', 'to', 'a', 'reusable', ',', 'winged', ',', 'hypersonic', ',', 'cargo', '-', 'carrying', 'spacecraft', '.', '”', 'Although', 'her', 'base', 'structure', 'followed', 'a', 'conventional', 'aircraft', 'design', ',', 'she', 'used', 'advanced', 'materials', 'that', 'both', 'minimized', 'her', 'weight', 'for', 'cargo', '-', 'carrying', 'purposes', 'and', 'featured', 'low', 'thermal', 'expansion', 'ratios', ',', 'which', 'provided', 'a', 'stable', 'base', 'for', 'her', 'Thermal', 'Protection', 'System', '(', 'TPS', ')', 'materials', '.', 'The', 'Space', 'Shuttle', 'orbiter', 'also', 'featured', 'the', 'first', 'reusable', 'TPS', ';', 'all', 'previous', 'spaceflight', 'vehicles', 'had', 'a', 'single', '-', 'use', ',', 'ablative', 'heat', 'shield', '.', 'Other', 'notable', 'engineering', 'achievements', 'of', 'the', 'orbiter', 'included', 'the', 'first', 'reusable', 'orbital', 'propulsion', 'system', ',', 'and', 'the', 'first', 'two', '-', 'fault', '-', 'tolerant', 'Integrated', 'Avionics', 'System', '.', 'As', 'Hale', 'stated', ',', 'the', 'Space', 'Shuttle', 'remains', '“', 'the', 'largest', ',', 'fastest', ',', 'winged', 'hypersonic', 'aircraft', 'in', 'history', ',', '”', 'having', 'regularly', 'flown', 'at', 'twenty', '-', 'five', 'times', 'the', 'speed', 'of', 'sound', '.'] \n",
            " 539\n"
          ]
        }
      ]
    },
    {
      "cell_type": "code",
      "source": [
        "print(set(tokens)-set(tokens_nltk))"
      ],
      "metadata": {
        "colab": {
          "base_uri": "https://localhost:8080/"
        },
        "id": "xfDgZXWCaXO5",
        "outputId": "fa86c10f-e810-4520-c935-b1c2cc1f2f77"
      },
      "execution_count": 13,
      "outputs": [
        {
          "output_type": "stream",
          "name": "stdout",
          "text": [
            "{'2011', 'tolerant', '1969', 'carrying', 'related', 'cargo', 'nine', 'single', 'fault', 'defense', 'thirty', 'seven', 'spacecraft', '-', 'use', '’s'}\n"
          ]
        }
      ]
    },
    {
      "cell_type": "code",
      "source": [
        "tag = [token.pos_ for token in doc]\n",
        "print(tag)"
      ],
      "metadata": {
        "colab": {
          "base_uri": "https://localhost:8080/"
        },
        "id": "itEoksU4HqVI",
        "outputId": "7748c87b-803b-47bf-b684-123c13b7a683"
      },
      "execution_count": 5,
      "outputs": [
        {
          "output_type": "stream",
          "name": "stdout",
          "text": [
            "['DET', 'PROPN', 'PROPN', 'PUNCT', 'PROPN', 'PUNCT', 'AUX', 'VERB', 'ADJ', 'ADP', 'VERB', 'ADP', 'DET', 'PROPN', 'PROPN', 'ADP', 'PROPN', 'PROPN', 'PUNCT', 'PROPN', 'PUNCT', 'ADP', 'DET', 'NOUN', 'ADP', 'DET', 'PROPN', 'PROPN', 'PROPN', 'PROPN', 'PUNCT', 'NUM', 'SYM', 'NUM', 'PUNCT', 'ADP', 'PROPN', 'PROPN', 'ADP', 'DET', 'NOUN', 'ADP', 'PROPN', 'PROPN', 'CCONJ', 'PROPN', 'CCONJ', 'ADP', 'PROPN', 'PROPN', 'ADP', 'DET', 'NOUN', 'ADP', 'PROPN', 'PUNCT', 'SCONJ', 'PRON', 'AUX', 'VERB', 'NOUN', 'ADP', 'DET', 'ADJ', 'NUM', 'NOUN', 'PUNCT', 'PROPN', 'PROPN', 'NOUN', 'VERB', 'PUNCT', 'ADP', 'PROPN', 'PROPN', 'PUNCT', 'PROPN', 'AUX', 'ADJ', 'ADP', 'DET', 'ADJ', 'ADP', 'DET', 'NUM', 'ADJ', 'NOUN', 'NOUN', 'VERB', 'ADP', 'DET', 'PROPN', 'PROPN', 'PROPN', 'PUNCT', 'PROPN', 'PUNCT', 'PUNCT', 'DET', 'ADJ', 'VERB', 'ADJ', 'NOUN', 'NOUN', 'ADP', 'NOUN', 'PUNCT', 'PRON', 'AUX', 'DET', 'ADJ', 'ADP', 'NUM', 'NOUN', 'VERB', 'ADP', 'PROPN', 'PUNCT', 'ADP', 'DET', 'PROPN', 'PUNCT', 'PROPN', 'PUNCT', 'CCONJ', 'PROPN', 'NOUN', 'PUNCT', 'DET', 'PROPN', 'PART', 'NOUN', 'AUX', 'ADP', 'NOUN', 'NOUN', 'CCONJ', 'NOUN', 'PUNCT', 'CCONJ', 'ADV', 'DET', 'NOUN', 'ADP', 'DET', 'NOUN', 'NOUN', 'PUNCT', 'VERB', 'PRON', 'ADJ', 'NOUN', 'PUNCT', 'VERB', 'PROPN', 'NUM', 'PUNCT', 'NUM', 'PUNCT', 'PUNCT', 'PROPN', 'VERB', 'ADP', 'NOUN', 'NUM', 'PUNCT', 'NUM', 'NOUN', 'PUNCT', 'ADJ', 'ADP', 'PRON', 'ADP', 'DET', 'ADJ', 'NUM', 'NOUN', 'PUNCT', 'PRON', 'AUX', 'ADV', 'DET', 'ADJ', 'NOUN', 'PART', 'VERB', 'NUM', 'NOUN', 'PUNCT', 'PRON', 'VERB', 'DET', 'NOUN', 'ADP', 'AUX', 'VERB', 'ADP', 'DET', 'PROPN', 'ADP', 'PROPN', 'NOUN', 'ADP', 'CCONJ', 'DET', 'PROPN', 'CCONJ', 'PROPN', 'NOUN', 'PUNCT', 'PROPN', 'AUX', 'DET', 'ADJ', 'NOUN', 'PART', 'VERB', 'ADP', 'DET', 'VERB', 'NOUN', 'PUNCT', 'DET', 'NOUN', 'ADP', 'DET', 'PROPN', 'NOUN', 'PUNCT', 'CCONJ', 'DET', 'ADJ', 'NOUN', 'PART', 'VERB', 'ADP', 'DET', 'PROPN', 'PROPN', 'CCONJ', 'PROPN', 'PRON', 'PROPN', 'PUNCT', 'PROPN', 'ADV', 'VERB', 'DET', 'PROPN', 'PROPN', 'PROPN', 'PART', 'VERB', 'CCONJ', 'VERB', 'NUM', 'ADP', 'DET', 'NUM', 'NOUN', 'NOUN', 'ADP', 'DET', 'NOUN', 'PUNCT', 'PRON', 'VERB', 'DET', 'ADJ', 'CCONJ', 'ADJ', 'ADJ', 'PROPN', 'ADP', 'PROPN', 'PUNCT', 'PROPN', 'PUNCT', 'NOUN', 'PUNCT', 'ADV', 'ADV', 'ADP', 'DET', 'ADJ', 'ADJ', 'NOUN', 'PUNCT', 'VERB', 'NOUN', 'PUNCT', 'ADP', 'NOUN', 'PUNCT', 'PROPN', 'AUX', 'ADJ', 'ADP', 'DET', 'NOUN', 'ADP', 'DET', 'PROPN', 'PROPN', 'PROPN', 'PUNCT', 'PROPN', 'PUNCT', 'PUNCT', 'PRON', 'VERB', 'NUM', 'ADP', 'DET', 'NUM', 'PUNCT', 'NUM', 'ADJ', 'NOUN', 'VERB', 'ADP', 'DET', 'NOUN', 'ADP', 'DET', 'PROPN', 'PROPN', 'PROPN', 'PUNCT', 'PRON', 'AUX', 'DET', 'ADJ', 'NOUN', 'PART', 'VERB', 'ADP', 'DET', 'PROPN', 'PUNCT', 'CCONJ', 'DET', 'ADJ', 'PART', 'VERB', 'DET', 'NOUN', 'ADP', 'DET', 'ADJ', 'NOUN', 'PUNCT', 'ADP', 'PROPN', 'PROPN', 'PUNCT', 'PROPN', 'AUX', 'ADJ', 'ADP', 'DET', 'NOUN', 'ADP', 'NOUN', 'PUNCT', 'VERB', 'ADP', 'PROPN', 'PROPN', 'PUNCT', 'DET', 'NOUN', 'NOUN', 'ADP', 'PROPN', 'PROPN', 'PROPN', 'PUNCT', 'DET', 'PROPN', 'PROPN', 'NOUN', 'VERB', 'DET', 'PUNCT', 'ADJ', 'ADJ', 'NOUN', 'ADP', 'ADJ', 'NOUN', 'CCONJ', 'VERB', 'ADP', 'DET', 'ADJ', 'PUNCT', 'VERB', 'PUNCT', 'ADJ', 'PUNCT', 'NOUN', 'PUNCT', 'VERB', 'NOUN', 'PUNCT', 'PUNCT', 'SCONJ', 'PRON', 'NOUN', 'NOUN', 'VERB', 'DET', 'ADJ', 'NOUN', 'NOUN', 'PUNCT', 'PRON', 'VERB', 'ADJ', 'NOUN', 'PRON', 'PRON', 'VERB', 'PRON', 'NOUN', 'ADP', 'NOUN', 'PUNCT', 'VERB', 'NOUN', 'CCONJ', 'VERB', 'ADJ', 'ADJ', 'NOUN', 'NOUN', 'PUNCT', 'PRON', 'VERB', 'DET', 'ADJ', 'NOUN', 'ADP', 'PRON', 'PROPN', 'PROPN', 'PROPN', 'PUNCT', 'PROPN', 'PUNCT', 'NOUN', 'PUNCT', 'DET', 'PROPN', 'PROPN', 'NOUN', 'ADV', 'VERB', 'DET', 'ADJ', 'ADJ', 'PROPN', 'PUNCT', 'DET', 'ADJ', 'NOUN', 'NOUN', 'VERB', 'DET', 'ADJ', 'PUNCT', 'NOUN', 'PUNCT', 'ADJ', 'NOUN', 'NOUN', 'PUNCT', 'ADJ', 'ADJ', 'NOUN', 'NOUN', 'ADP', 'DET', 'NOUN', 'VERB', 'DET', 'ADJ', 'ADJ', 'ADJ', 'NOUN', 'NOUN', 'PUNCT', 'CCONJ', 'DET', 'ADJ', 'NUM', 'PUNCT', 'NOUN', 'PUNCT', 'ADJ', 'PROPN', 'PROPN', 'PROPN', 'PUNCT', 'SCONJ', 'PROPN', 'VERB', 'PUNCT', 'DET', 'PROPN', 'PROPN', 'VERB', 'PUNCT', 'DET', 'ADJ', 'PUNCT', 'ADJ', 'PUNCT', 'VERB', 'ADJ', 'NOUN', 'ADP', 'NOUN', 'PUNCT', 'PUNCT', 'AUX', 'ADV', 'VERB', 'ADP', 'NUM', 'PUNCT', 'NUM', 'NOUN', 'DET', 'NOUN', 'ADP', 'NOUN', 'PUNCT']\n"
          ]
        }
      ]
    },
    {
      "cell_type": "code",
      "source": [
        "for token in doc[:7]:\n",
        "  print(f'Token: {str(token)}, tag: {token.tag_}, pos: {token.pos_}, expl : {spacy.explain(token.tag_)}')"
      ],
      "metadata": {
        "colab": {
          "base_uri": "https://localhost:8080/"
        },
        "id": "csWjQXUmP4_n",
        "outputId": "564c2aba-ee9f-4cc7-c3f6-48f81a95d4d4"
      },
      "execution_count": 12,
      "outputs": [
        {
          "output_type": "stream",
          "name": "stdout",
          "text": [
            "Token: The, tag: DT, pos: DET, expl : determiner\n",
            "Token: Orbiter, tag: NNP, pos: PROPN, expl : noun, proper singular\n",
            "Token: Discovery, tag: NNP, pos: PROPN, expl : noun, proper singular\n",
            "Token: ,, tag: ,, pos: PUNCT, expl : punctuation mark, comma\n",
            "Token: OV-103, tag: NNP, pos: PROPN, expl : noun, proper singular\n",
            "Token: ,, tag: ,, pos: PUNCT, expl : punctuation mark, comma\n",
            "Token: is, tag: VBZ, pos: AUX, expl : verb, 3rd person singular present\n"
          ]
        }
      ]
    },
    {
      "cell_type": "code",
      "source": [
        "pos_tag = ['PROPN', 'VERB', 'NOUN', 'ADJ']"
      ],
      "metadata": {
        "id": "palu3TO4BMm-"
      },
      "execution_count": 14,
      "outputs": []
    },
    {
      "cell_type": "code",
      "source": [
        "keywords = [token.lemma_ for token in doc if (not token in stop_words and not token.text.lower() in punctuation and token.pos_ in pos_tag)]\n",
        "print(keywords, '\\n', len(keywords))"
      ],
      "metadata": {
        "colab": {
          "base_uri": "https://localhost:8080/"
        },
        "id": "CSPei8FbD1iY",
        "outputId": "a7e4b719-2092-4ff6-887e-10a4f4ca3ef4"
      },
      "execution_count": 31,
      "outputs": [
        {
          "output_type": "stream",
          "name": "stdout",
          "text": [
            "['Orbiter', 'Discovery', 'OV-103', 'consider', 'eligible', 'list', 'National', 'Register', 'Historic', 'Places', 'NRHP', 'context', 'U.S.', 'Space', 'Shuttle', 'Program', 'Criterion', 'A', 'area', 'Space', 'Exploration', 'Transportation', 'Criterion', 'C', 'area', 'Engineering', 'achieve', 'significance', 'past', 'year', 'Criteria', 'Consideration', 'g', 'apply', 'Criterion', 'A', 'Discovery', 'significant', 'old', 'extant', 'orbiter', 'vehicle', 'construct', 'Space', 'Shuttle', 'Program', 'SSP', 'long', 'run', 'american', 'space', 'program', 'date', 'third', 'orbiter', 'build', 'NASA', 'Mercury', 'Gemini', 'Apollo', 'program', 'SSP', 'emphasis', 'cost', 'effectiveness', 'reusability', 'construction', 'space', 'station', 'include', 'maiden', 'voyage', 'launch', 'August', 'Discovery', 'fly', 'space', 'time', 'more', 'other', 'orbiter', 'first', 'orbiter', 'fly', 'mission', 'have', 'honor', 'choose', 'Return', 'Flight', 'vehicle', 'Challenger', 'Columbia', 'accident', 'Discovery', 'first', 'shuttle', 'fly', 'redesign', 'srb', 'result', 'Challenger', 'accident', 'first', 'shuttle', 'fly', 'Phase', 'II', 'Block', 'SSME', 'Discovery', 'carry', 'Hubble', 'Space', 'Telescope', 'orbit', 'perform', 'servicing', 'mission', 'observatory', 'fly', 'first', 'last', 'dedicated', 'Department', 'Defense', 'DoD', 'mission', 'first', 'unclassified', 'defense', 'relate', 'mission', 'addition', 'Discovery', 'vital', 'construction', 'International', 'Space', 'Station', 'ISS', 'fly', 'total', 'mission', 'fly', 'station', 'U.S.', 'Space', 'Shuttle', 'first', 'orbiter', 'dock', 'ISS', 'first', 'perform', 'exchange', 'resident', 'crew', 'Criterion', 'C', 'Discovery', 'significant', 'feat', 'engineering', 'accord', 'Wayne', 'Hale', 'flight', 'director', 'Johnson', 'Space', 'Center', 'Space', 'Shuttle', 'orbiter', 'represent', 'huge', 'technological', 'leap', 'expendable', 'rocket', 'capsule', 'reusable', 'wing', 'hypersonic', 'cargo', 'carry', 'spacecraft', 'base', 'structure', 'follow', 'conventional', 'aircraft', 'design', 'use', 'advanced', 'material', 'minimize', 'weight', 'cargo', 'carry', 'purpose', 'feature', 'low', 'thermal', 'expansion', 'ratio', 'provide', 'stable', 'base', 'Thermal', 'Protection', 'System', 'TPS', 'material', 'Space', 'Shuttle', 'orbiter', 'feature', 'first', 'reusable', 'TPS', 'previous', 'spaceflight', 'vehicle', 'have', 'single', 'use', 'ablative', 'heat', 'shield', 'other', 'notable', 'engineering', 'achievement', 'orbiter', 'include', 'first', 'reusable', 'orbital', 'propulsion', 'system', 'first', 'fault', 'tolerant', 'Integrated', 'Avionics', 'System', 'Hale', 'state', 'Space', 'Shuttle', 'remain', 'large', 'fast', 'wing', 'hypersonic', 'aircraft', 'history', 'fly', 'time', 'speed', 'sound'] \n",
            " 263\n"
          ]
        }
      ]
    },
    {
      "cell_type": "code",
      "source": [
        "freq_word = Counter(keywords)\n",
        "freq_word.most_common(5)"
      ],
      "metadata": {
        "colab": {
          "base_uri": "https://localhost:8080/"
        },
        "id": "MIBS3Aa6WJwB",
        "outputId": "9a38bdb0-9c3d-4fa2-cb66-52cba3aa81b8"
      },
      "execution_count": 32,
      "outputs": [
        {
          "output_type": "execute_result",
          "data": {
            "text/plain": [
              "[('Space', 10), ('first', 10), ('orbiter', 8), ('fly', 8), ('Discovery', 7)]"
            ]
          },
          "metadata": {},
          "execution_count": 32
        }
      ]
    },
    {
      "cell_type": "code",
      "source": [
        "max_freq = Counter(keywords).most_common(1)[0][1]\n",
        "max_freq"
      ],
      "metadata": {
        "colab": {
          "base_uri": "https://localhost:8080/"
        },
        "id": "qbv7n7onEqBF",
        "outputId": "73d5bbec-3732-4289-8692-45fdffe6261a"
      },
      "execution_count": 77,
      "outputs": [
        {
          "output_type": "execute_result",
          "data": {
            "text/plain": [
              "10"
            ]
          },
          "metadata": {},
          "execution_count": 77
        }
      ]
    },
    {
      "cell_type": "code",
      "source": [
        "norm_token = {word: v / max_freq for (word, v) in freq_word.items() }"
      ],
      "metadata": {
        "id": "wPJsMF_3EyN9"
      },
      "execution_count": 78,
      "outputs": []
    },
    {
      "cell_type": "code",
      "source": [
        "sent_weights = {}\n",
        "for sent in sentences:\n",
        "  for word in sent:\n",
        "    if word in freq_word.keys():\n",
        "      if sent in sent_weights.keys():\n",
        "        sent_weights[sent] += norm_token[word]\n",
        "      else:\n",
        "        sent_weights[sent] = norm_token[word]"
      ],
      "metadata": {
        "id": "rZOWqV7ELKpf"
      },
      "execution_count": 80,
      "outputs": []
    },
    {
      "cell_type": "code",
      "source": [
        "summary = nlargest(4, sent_weights, key=sent_weights.get)\n",
        "for s in summary:\n",
        "  print(s,'\\n')"
      ],
      "metadata": {
        "colab": {
          "base_uri": "https://localhost:8080/"
        },
        "id": "XODNhL9SLfeG",
        "outputId": "04635364-3066-409e-b3f0-0bb0d9c8c945"
      },
      "execution_count": 83,
      "outputs": [
        {
          "output_type": "stream",
          "name": "stdout",
          "text": [
            "According to Wayne Hale, a flight director from Johnson Space Center, the Space Shuttle orbiter represents a “huge technological leap from expendable rockets and capsules to a reusable, winged, hypersonic, cargo-carrying spacecraft.” Although her base structure followed a conventional aircraft design, she used advanced materials that both minimized her weight for cargo-carrying purposes and featured low thermal expansion ratios, which provided a stable base for her Thermal Protection System (TPS) materials. \n",
            "\n",
            "Under Criterion A, Discovery is significant as the oldest of the three extant orbiter vehicles constructed for the Space Shuttle Program (SSP), the longest running American space program to date; she was the third of five orbiters built by NASA. \n",
            "\n",
            "The Orbiter Discovery, OV-103, is considered eligible for listing in the National Register of Historic Places (NRHP) in the context of the U.S. Space Shuttle Program (1969-2011) under Criterion A in the areas of Space Exploration and Transportation and under Criterion C in the area of Engineering. \n",
            "\n",
            "She had the honor of being chosen as the Return to Flight vehicle after both the Challenger and Columbia accidents. \n",
            "\n"
          ]
        }
      ]
    }
  ],
  "metadata": {
    "colab": {
      "provenance": [],
      "include_colab_link": true
    },
    "kernelspec": {
      "display_name": "Python 3",
      "name": "python3"
    },
    "language_info": {
      "codemirror_mode": {
        "name": "ipython",
        "version": 3
      },
      "file_extension": ".py",
      "mimetype": "text/x-python",
      "name": "python",
      "nbconvert_exporter": "python",
      "pygments_lexer": "ipython3",
      "version": "3.9.2"
    }
  },
  "nbformat": 4,
  "nbformat_minor": 0
}