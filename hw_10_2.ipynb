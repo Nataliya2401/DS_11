{
  "cells": [
    {
      "cell_type": "markdown",
      "metadata": {
        "id": "view-in-github",
        "colab_type": "text"
      },
      "source": [
        "<a href=\"https://colab.research.google.com/github/Nataliya2401/DS_11/blob/main/hw_10_2.ipynb\" target=\"_parent\"><img src=\"https://colab.research.google.com/assets/colab-badge.svg\" alt=\"Open In Colab\"/></a>"
      ]
    },
    {
      "cell_type": "code",
      "execution_count": 1,
      "metadata": {
        "id": "il_0_5OyUSNR"
      },
      "outputs": [],
      "source": [
        "import numpy as np\n",
        "import matplotlib.pyplot as plt\n",
        "import tensorflow as tf\n",
        "import keras as K\n",
        "from sklearn.model_selection import train_test_split\n",
        "%matplotlib inline"
      ]
    },
    {
      "cell_type": "code",
      "execution_count": 2,
      "metadata": {
        "id": "Fiohb3Ow-RiZ"
      },
      "outputs": [],
      "source": [
        "from keras.datasets import fashion_mnist\n",
        "from keras.models import Sequential\n",
        "from keras.layers import Dense, Dropout, Conv2D, Flatten, MaxPooling2D, GaussianDropout\n",
        "from keras.preprocessing.image import ImageDataGenerator\n",
        "from keras.applications.vgg16 import VGG16, preprocess_input\n",
        "from keras.callbacks import EarlyStopping, LearningRateScheduler\n",
        "from keras.preprocessing.image import img_to_array\n",
        "from keras import utils, layers"
      ]
    },
    {
      "cell_type": "code",
      "execution_count": 3,
      "metadata": {
        "id": "puHu7mMOjsrH"
      },
      "outputs": [],
      "source": [
        "from keras.src import callbacks\n",
        "from keras.optimizers import Adam, Adamax\n",
        "from keras.callbacks import EarlyStopping"
      ]
    },
    {
      "cell_type": "code",
      "execution_count": 4,
      "metadata": {
        "id": "cd-1_abTUSNS"
      },
      "outputs": [],
      "source": [
        "num_classes = 10 # загальна кількість класів\n",
        "img_row, img_col = 28, 28\n",
        "image_shape = (img_row, img_col, 1)\n",
        "img_size=32"
      ]
    },
    {
      "cell_type": "code",
      "execution_count": 5,
      "metadata": {
        "id": "ehQUJpQJ5X40",
        "colab": {
          "base_uri": "https://localhost:8080/"
        },
        "outputId": "98cc4462-1b29-4266-9e1d-5c36c91b1b15"
      },
      "outputs": [
        {
          "output_type": "stream",
          "name": "stdout",
          "text": [
            "Downloading data from https://storage.googleapis.com/tensorflow/tf-keras-datasets/train-labels-idx1-ubyte.gz\n",
            "29515/29515 [==============================] - 0s 0us/step\n",
            "Downloading data from https://storage.googleapis.com/tensorflow/tf-keras-datasets/train-images-idx3-ubyte.gz\n",
            "26421880/26421880 [==============================] - 0s 0us/step\n",
            "Downloading data from https://storage.googleapis.com/tensorflow/tf-keras-datasets/t10k-labels-idx1-ubyte.gz\n",
            "5148/5148 [==============================] - 0s 0us/step\n",
            "Downloading data from https://storage.googleapis.com/tensorflow/tf-keras-datasets/t10k-images-idx3-ubyte.gz\n",
            "4422102/4422102 [==============================] - 0s 0us/step\n"
          ]
        }
      ],
      "source": [
        "# Завантажуємо датасет\n",
        "(x_train, y_train), (x_test, y_test) = fashion_mnist.load_data()"
      ]
    },
    {
      "cell_type": "code",
      "execution_count": null,
      "metadata": {
        "id": "pGTXiRyTUSNT"
      },
      "outputs": [],
      "source": [
        "# Підготовка даних\n",
        "x_train = x_train.reshape(x_train.shape[0], *image_shape)\n",
        "x_test = x_test.reshape(x_test.shape[0], *image_shape)\n",
        "x_train_v = np.repeat(x_train, 3, axis=3)\n",
        "x_test_v = np.repeat(x_test, 3, axis=3)\n",
        "y_train = utils.to_categorical(y_train, 10)\n",
        "y_test = utils.to_categorical(y_test, 10)"
      ]
    },
    {
      "cell_type": "code",
      "execution_count": null,
      "metadata": {
        "colab": {
          "base_uri": "https://localhost:8080/"
        },
        "id": "2JbPsqlqud5w",
        "outputId": "abd9c946-fa5c-494c-e6db-89fbe694b408"
      },
      "outputs": [
        {
          "output_type": "execute_result",
          "data": {
            "text/plain": [
              "((60000, 28, 28, 3), (10000, 28, 28, 3), (60000, 10), (10000, 10))"
            ]
          },
          "metadata": {},
          "execution_count": 7
        }
      ],
      "source": [
        "x_train_v.shape, x_test_v.shape, y_train.shape, y_test.shape"
      ]
    },
    {
      "cell_type": "code",
      "execution_count": null,
      "metadata": {
        "id": "JXnkM9mZk0J6"
      },
      "outputs": [],
      "source": [
        "image = next(iter(x_train_v))"
      ]
    },
    {
      "cell_type": "code",
      "execution_count": null,
      "metadata": {
        "colab": {
          "base_uri": "https://localhost:8080/",
          "height": 430
        },
        "id": "PP6-sY-sk8DC",
        "outputId": "06479697-23bf-42c0-ac21-2ccb6d7aff91"
      },
      "outputs": [
        {
          "data": {
            "image/png": "[encoded data removed]",
            "text/plain": [
              "<Figure size 640x480 with 1 Axes>"
            ]
          },
          "metadata": {},
          "output_type": "display_data"
        }
      ],
      "source": [
        "_ = plt.imshow(image)"
      ]
    },
    {
      "cell_type": "code",
      "execution_count": null,
      "metadata": {
        "id": "w5J3y8bV63Mu"
      },
      "outputs": [],
      "source": [
        "class_name = ['T-shirt/top', 'Trouser', 'Pullover', 'Dress', 'Coat', 'Sandal', 'Shirt', 'Sneaker', 'Bag', 'Ankle_boot']"
      ]
    },
    {
      "cell_type": "code",
      "execution_count": null,
      "metadata": {
        "colab": {
          "base_uri": "https://localhost:8080/"
        },
        "id": "ISFnbAl9s_8S",
        "outputId": "d0c65ae1-412a-4177-dc9c-8e3e7ec76e92"
      },
      "outputs": [
        {
          "data": {
            "text/plain": [
              "(28, 28, 3)"
            ]
          },
          "execution_count": 12,
          "metadata": {},
          "output_type": "execute_result"
        }
      ],
      "source": [
        "image.shape"
      ]
    },
    {
      "cell_type": "code",
      "execution_count": 6,
      "metadata": {
        "id": "cT8f03OVlb4I"
      },
      "outputs": [],
      "source": [
        "resize_and_rescale = Sequential([\n",
        "    layers.Resizing(img_size,img_size),\n",
        "    layers.Rescaling(1./255)\n",
        "])"
      ]
    },
    {
      "cell_type": "code",
      "execution_count": null,
      "metadata": {
        "id": "GnzHC6ZqxICO"
      },
      "outputs": [],
      "source": [
        "x_train_prepared = resize_and_rescale(x_train_v)\n",
        "x_test_prepared = resize_and_rescale(x_test_v)"
      ]
    },
    {
      "cell_type": "code",
      "execution_count": null,
      "metadata": {
        "colab": {
          "base_uri": "https://localhost:8080/"
        },
        "id": "18ba49WMxmtO",
        "outputId": "5907e20b-4b9c-42f0-8d3f-c292c9387fd5"
      },
      "outputs": [
        {
          "output_type": "execute_result",
          "data": {
            "text/plain": [
              "(TensorShape([60000, 32, 32, 3]), TensorShape([10000, 32, 32, 3]))"
            ]
          },
          "metadata": {},
          "execution_count": 11
        }
      ],
      "source": [
        "x_train_prepared.shape, x_test_prepared.shape"
      ]
    },
    {
      "cell_type": "code",
      "execution_count": null,
      "metadata": {
        "id": "W2YBT8KU0_7i"
      },
      "outputs": [],
      "source": [
        "datagen = ImageDataGenerator(\n",
        "    rotation_range=40,\n",
        "    width_shift_range=0.2,\n",
        "    height_shift_range=0.2,\n",
        "    shear_range=0.2,\n",
        "    zoom_range=0.2,\n",
        "    horizontal_flip=True,\n",
        "    fill_mode=\"nearest\"\n",
        ")"
      ]
    },
    {
      "cell_type": "code",
      "execution_count": null,
      "metadata": {
        "colab": {
          "base_uri": "https://localhost:8080/"
        },
        "id": "YpTe7ywfDpN1",
        "outputId": "ed3fbda0-dc9f-4636-bc2c-ad477657de9c"
      },
      "outputs": [
        {
          "output_type": "execute_result",
          "data": {
            "text/plain": [
              "60000"
            ]
          },
          "metadata": {},
          "execution_count": 13
        }
      ],
      "source": [
        "x_train.shape[0]"
      ]
    },
    {
      "cell_type": "code",
      "execution_count": null,
      "metadata": {
        "colab": {
          "base_uri": "https://localhost:8080/",
          "height": 234
        },
        "id": "unOWFYFC6pbY",
        "outputId": "5efde423-9efe-4886-8de7-e2184f29209b"
      },
      "outputs": [
        {
          "name": "stdout",
          "output_type": "stream",
          "text": [
            "(32, 32, 3)\n",
            "(32, 32, 3)\n",
            "(32, 32, 3)\n"
          ]
        },
        {
          "data": {
            "image/png": "[encoded data removed]",
            "text/plain": [
              "<Figure size 640x480 with 3 Axes>"
            ]
          },
          "metadata": {},
          "output_type": "display_data"
        }
      ],
      "source": [
        "datagen.fit(x_train_prepared)\n",
        "\n",
        "for X_batch, y_batch in datagen.flow(x_train_prepared,y_train, batch_size=6):\n",
        "    for i in range(0, 3):\n",
        "        plt.subplot(1,3,i+1)\n",
        "        plt.imshow(X_batch[i])\n",
        "        print(X_batch[i].shape)\n",
        "        plt.axis('off')\n",
        "    break"
      ]
    },
    {
      "cell_type": "code",
      "execution_count": null,
      "metadata": {
        "id": "v1K-unOvCMIE"
      },
      "outputs": [],
      "source": [
        "augmented_data = datagen.flow(x_train_prepared, y_train, batch_size=x_train.shape[0], shuffle=False)\n",
        "x_train_augmented, y_train_augmented = next(augmented_data)"
      ]
    },
    {
      "cell_type": "code",
      "execution_count": null,
      "metadata": {
        "id": "TX0WL4RzMQf3"
      },
      "outputs": [],
      "source": [
        "X_train = np.concatenate([x_train_prepared, x_train_augmented])\n",
        "y_train = np.concatenate([y_train, y_train_augmented])"
      ]
    },
    {
      "cell_type": "code",
      "execution_count": null,
      "metadata": {
        "colab": {
          "base_uri": "https://localhost:8080/"
        },
        "id": "1ck9YMNVEspr",
        "outputId": "d5e4fd34-ea99-401a-abcd-957c8d925ff1"
      },
      "outputs": [
        {
          "output_type": "execute_result",
          "data": {
            "text/plain": [
              "((120000, 32, 32, 3), (120000, 10))"
            ]
          },
          "metadata": {},
          "execution_count": 16
        }
      ],
      "source": [
        "X_train.shape, y_train.shape"
      ]
    },
    {
      "cell_type": "code",
      "execution_count": null,
      "metadata": {
        "colab": {
          "base_uri": "https://localhost:8080/",
          "height": 261
        },
        "id": "EWx-jKspHsWV",
        "outputId": "7b53ad12-a53c-4717-8d87-8fa967a64c72"
      },
      "outputs": [
        {
          "name": "stdout",
          "output_type": "stream",
          "text": [
            "0.0 0.9521753\n",
            "0.0 0.9481465\n",
            "0.0 0.9321079\n"
          ]
        },
        {
          "data": {
            "image/png": "[encoded data removed]",
            "text/plain": [
              "<Figure size 640x480 with 3 Axes>"
            ]
          },
          "metadata": {},
          "output_type": "display_data"
        }
      ],
      "source": [
        "itr = iter(X_train)\n",
        "\n",
        "for i in range(0, 3):\n",
        "  plt.subplot(1,3,i+1)\n",
        "  image_n = next(itr)\n",
        "  print(image_n.min(), image_n.max())\n",
        "  plt.imshow(image_n)\n"
      ]
    },
    {
      "cell_type": "code",
      "execution_count": null,
      "metadata": {
        "colab": {
          "base_uri": "https://localhost:8080/",
          "height": 447
        },
        "id": "4ldcSnp2ksxT",
        "outputId": "3adaffff-cb21-42ad-ea3e-6bc4d061a987"
      },
      "outputs": [
        {
          "data": {
            "text/plain": [
              "<matplotlib.image.AxesImage at 0x7852ae5085b0>"
            ]
          },
          "execution_count": 24,
          "metadata": {},
          "output_type": "execute_result"
        },
        {
          "data": {
            "image/png": "[encoded data removed]",
            "text/plain": [
              "<Figure size 640x480 with 1 Axes>"
            ]
          },
          "metadata": {},
          "output_type": "display_data"
        }
      ],
      "source": [
        "plt.imshow(X_train[62000])\n"
      ]
    },
    {
      "cell_type": "code",
      "execution_count": null,
      "metadata": {
        "id": "MS_QyF44lOP_"
      },
      "outputs": [],
      "source": [
        "X_train, X_val, y_tr, y_val = train_test_split(X_train, y_train, test_size=0.15)"
      ]
    },
    {
      "cell_type": "code",
      "source": [
        "X_train.dtype"
      ],
      "metadata": {
        "colab": {
          "base_uri": "https://localhost:8080/"
        },
        "id": "7VCbRRQE04od",
        "outputId": "7796cc0b-5f24-4da1-e49d-cf072f967f43"
      },
      "execution_count": null,
      "outputs": [
        {
          "output_type": "execute_result",
          "data": {
            "text/plain": [
              "dtype('float32')"
            ]
          },
          "metadata": {},
          "execution_count": 37
        }
      ]
    },
    {
      "cell_type": "code",
      "execution_count": null,
      "metadata": {
        "colab": {
          "base_uri": "https://localhost:8080/"
        },
        "id": "6VtYM_dnlZEW",
        "outputId": "7590101f-82ef-4094-dd76-d91218f73868"
      },
      "outputs": [
        {
          "output_type": "execute_result",
          "data": {
            "text/plain": [
              "(102000, 32, 32, 3)"
            ]
          },
          "metadata": {},
          "execution_count": 18
        }
      ],
      "source": [
        "X_train.shape"
      ]
    },
    {
      "cell_type": "code",
      "execution_count": null,
      "metadata": {
        "colab": {
          "base_uri": "https://localhost:8080/"
        },
        "id": "FkRmCQjnUSNV",
        "outputId": "30459b85-7fd6-40a0-b7d9-749afd1bf585"
      },
      "outputs": [
        {
          "name": "stdout",
          "output_type": "stream",
          "text": [
            "Downloading data from https://storage.googleapis.com/tensorflow/keras-applications/vgg16/vgg16_weights_tf_dim_ordering_tf_kernels_notop.h5\n",
            "58889256/58889256 [==============================] - 0s 0us/step\n"
          ]
        }
      ],
      "source": [
        "# Створимо нейронну мережу \"Simply model\"\n",
        "model_vgg0 = VGG16(weights=\"imagenet\", include_top=False, input_shape=(32, 32, 3))\n",
        "model_vgg0.trainable = False\n",
        "\n",
        "model_vgg1 = Sequential([\n",
        "    model_vgg0,\n",
        "    Flatten(),\n",
        "    Dense(512, activation='relu'),\n",
        "    Dropout(0.4),\n",
        "    Dense(256, activation='relu'),\n",
        "    Dense(32, activation='relu'),\n",
        "    Dense(10, activation='softmax')\n",
        "])"
      ]
    },
    {
      "cell_type": "code",
      "execution_count": null,
      "metadata": {
        "id": "LK-7xI-xPxRT"
      },
      "outputs": [],
      "source": [
        "model_vgg1.compile(\n",
        "    optimizer=Adam(learning_rate=0.001),\n",
        "    loss='categorical_crossentropy',\n",
        "    metrics=['accuracy'])"
      ]
    },
    {
      "cell_type": "code",
      "execution_count": null,
      "metadata": {
        "colab": {
          "base_uri": "https://localhost:8080/"
        },
        "id": "b8lRwk1Tm1Ij",
        "outputId": "d421aa11-ff56-4a52-e08d-7882b880466c"
      },
      "outputs": [
        {
          "name": "stdout",
          "output_type": "stream",
          "text": [
            "Model: \"sequential_1\"\n",
            "_________________________________________________________________\n",
            " Layer (type)                Output Shape              Param #   \n",
            "=================================================================\n",
            " vgg16 (Functional)          (None, 1, 1, 512)         14714688  \n",
            "                                                                 \n",
            " flatten (Flatten)           (None, 512)               0         \n",
            "                                                                 \n",
            " dense (Dense)               (None, 512)               262656    \n",
            "                                                                 \n",
            " dropout (Dropout)           (None, 512)               0         \n",
            "                                                                 \n",
            " dense_1 (Dense)             (None, 256)               131328    \n",
            "                                                                 \n",
            " dense_2 (Dense)             (None, 32)                8224      \n",
            "                                                                 \n",
            " dense_3 (Dense)             (None, 10)                330       \n",
            "                                                                 \n",
            "=================================================================\n",
            "Total params: 15117226 (57.67 MB)\n",
            "Trainable params: 402538 (1.54 MB)\n",
            "Non-trainable params: 14714688 (56.13 MB)\n",
            "_________________________________________________________________\n"
          ]
        }
      ],
      "source": [
        "model_vgg1.summary()"
      ]
    },
    {
      "cell_type": "code",
      "execution_count": null,
      "metadata": {
        "colab": {
          "base_uri": "https://localhost:8080/"
        },
        "id": "hEAbSc1WoRTi",
        "outputId": "bbb0153d-92b4-4561-c9c8-f7643ff84bee"
      },
      "outputs": [
        {
          "name": "stdout",
          "output_type": "stream",
          "text": [
            "Model: \"vgg16\"\n",
            "_________________________________________________________________\n",
            " Layer (type)                Output Shape              Param #   \n",
            "=================================================================\n",
            " input_1 (InputLayer)        [(None, 32, 32, 3)]       0         \n",
            "                                                                 \n",
            " block1_conv1 (Conv2D)       (None, 32, 32, 64)        1792      \n",
            "                                                                 \n",
            " block1_conv2 (Conv2D)       (None, 32, 32, 64)        36928     \n",
            "                                                                 \n",
            " block1_pool (MaxPooling2D)  (None, 16, 16, 64)        0         \n",
            "                                                                 \n",
            " block2_conv1 (Conv2D)       (None, 16, 16, 128)       73856     \n",
            "                                                                 \n",
            " block2_conv2 (Conv2D)       (None, 16, 16, 128)       147584    \n",
            "                                                                 \n",
            " block2_pool (MaxPooling2D)  (None, 8, 8, 128)         0         \n",
            "                                                                 \n",
            " block3_conv1 (Conv2D)       (None, 8, 8, 256)         295168    \n",
            "                                                                 \n",
            " block3_conv2 (Conv2D)       (None, 8, 8, 256)         590080    \n",
            "                                                                 \n",
            " block3_conv3 (Conv2D)       (None, 8, 8, 256)         590080    \n",
            "                                                                 \n",
            " block3_pool (MaxPooling2D)  (None, 4, 4, 256)         0         \n",
            "                                                                 \n",
            " block4_conv1 (Conv2D)       (None, 4, 4, 512)         1180160   \n",
            "                                                                 \n",
            " block4_conv2 (Conv2D)       (None, 4, 4, 512)         2359808   \n",
            "                                                                 \n",
            " block4_conv3 (Conv2D)       (None, 4, 4, 512)         2359808   \n",
            "                                                                 \n",
            " block4_pool (MaxPooling2D)  (None, 2, 2, 512)         0         \n",
            "                                                                 \n",
            " block5_conv1 (Conv2D)       (None, 2, 2, 512)         2359808   \n",
            "                                                                 \n",
            " block5_conv2 (Conv2D)       (None, 2, 2, 512)         2359808   \n",
            "                                                                 \n",
            " block5_conv3 (Conv2D)       (None, 2, 2, 512)         2359808   \n",
            "                                                                 \n",
            " block5_pool (MaxPooling2D)  (None, 1, 1, 512)         0         \n",
            "                                                                 \n",
            "=================================================================\n",
            "Total params: 14714688 (56.13 MB)\n",
            "Trainable params: 0 (0.00 Byte)\n",
            "Non-trainable params: 14714688 (56.13 MB)\n",
            "_________________________________________________________________\n"
          ]
        }
      ],
      "source": [
        "model_vgg0.summary()"
      ]
    },
    {
      "cell_type": "code",
      "execution_count": null,
      "metadata": {
        "colab": {
          "background_save": true,
          "base_uri": "https://localhost:8080/"
        },
        "id": "HLHd5gdPQ57G",
        "outputId": "fe488e0a-f8e4-4d15-9e79-4dbb69f8a344"
      },
      "outputs": [
        {
          "name": "stdout",
          "output_type": "stream",
          "text": [
            "Epoch 1/15\n",
            "797/797 [==============================] - 908s 1s/step - loss: 0.7397 - accuracy: 0.7320 - val_loss: 0.5519 - val_accuracy: 0.7947\n",
            "Epoch 2/15\n",
            "797/797 [==============================] - 896s 1s/step - loss: 0.5796 - accuracy: 0.7867 - val_loss: 0.5115 - val_accuracy: 0.8127\n",
            "Epoch 3/15\n",
            "797/797 [==============================] - 925s 1s/step - loss: 0.5457 - accuracy: 0.7970 - val_loss: 0.4886 - val_accuracy: 0.8146\n",
            "Epoch 4/15\n",
            "797/797 [==============================] - 895s 1s/step - loss: 0.5201 - accuracy: 0.8062 - val_loss: 0.4878 - val_accuracy: 0.8179\n",
            "Epoch 5/15\n",
            "797/797 [==============================] - 896s 1s/step - loss: 0.5033 - accuracy: 0.8123 - val_loss: 0.4604 - val_accuracy: 0.8282\n",
            "Epoch 6/15\n",
            "797/797 [==============================] - 895s 1s/step - loss: 0.4892 - accuracy: 0.8167 - val_loss: 0.4792 - val_accuracy: 0.8209\n",
            "Epoch 7/15\n",
            "797/797 [==============================] - 916s 1s/step - loss: 0.4792 - accuracy: 0.8215 - val_loss: 0.4495 - val_accuracy: 0.8321\n",
            "Epoch 8/15\n",
            "797/797 [==============================] - 907s 1s/step - loss: 0.4677 - accuracy: 0.8246 - val_loss: 0.4644 - val_accuracy: 0.8272\n",
            "Epoch 9/15\n",
            "797/797 [==============================] - 895s 1s/step - loss: 0.4580 - accuracy: 0.8283 - val_loss: 0.4466 - val_accuracy: 0.8325\n",
            "Epoch 10/15\n",
            "797/797 [==============================] - 893s 1s/step - loss: 0.4489 - accuracy: 0.8308 - val_loss: 0.4465 - val_accuracy: 0.8337\n",
            "Epoch 11/15\n",
            "797/797 [==============================] - 895s 1s/step - loss: 0.4415 - accuracy: 0.8335 - val_loss: 0.4358 - val_accuracy: 0.8376\n",
            "Epoch 12/15\n",
            "797/797 [==============================] - 895s 1s/step - loss: 0.4336 - accuracy: 0.8367 - val_loss: 0.4320 - val_accuracy: 0.8379\n",
            "Epoch 13/15\n",
            "797/797 [==============================] - 884s 1s/step - loss: 0.4263 - accuracy: 0.8384 - val_loss: 0.4353 - val_accuracy: 0.8390\n",
            "Epoch 14/15\n",
            "797/797 [==============================] - 883s 1s/step - loss: 0.4197 - accuracy: 0.8410 - val_loss: 0.4375 - val_accuracy: 0.8379\n",
            "Epoch 15/15\n",
            "797/797 [==============================] - 882s 1s/step - loss: 0.4121 - accuracy: 0.8425 - val_loss: 0.4368 - val_accuracy: 0.8410\n"
          ]
        }
      ],
      "source": [
        "history = model_vgg1.fit(X_train, y_tr, batch_size=128,\n",
        "                    epochs=15,\n",
        "                    verbose=1,\n",
        "                    validation_data=(X_val, y_val))"
      ]
    },
    {
      "cell_type": "code",
      "execution_count": null,
      "metadata": {
        "id": "HzsoNy0Hu39T",
        "colab": {
          "base_uri": "https://localhost:8080/"
        },
        "outputId": "8a3aaaa3-7b85-430d-8d52-4ead76146f88"
      },
      "outputs": [
        {
          "output_type": "stream",
          "name": "stdout",
          "text": [
            "Test loss:  0.3694029450416565\n",
            "Test accuracy:  0.8651999831199646\n"
          ]
        }
      ],
      "source": [
        "score = model_vgg1.evaluate(x_test_prepared, y_test, verbose=0)\n",
        "print('Test loss: ', score[0])\n",
        "print('Test accuracy: ', score[1])"
      ]
    },
    {
      "cell_type": "code",
      "execution_count": null,
      "metadata": {
        "id": "okONs0GDvOEK",
        "colab": {
          "base_uri": "https://localhost:8080/",
          "height": 522
        },
        "outputId": "8ba4dd3f-f65a-40a2-a82f-b0aefda72147"
      },
      "outputs": [
        {
          "output_type": "display_data",
          "data": {
            "text/plain": [
              "<Figure size 1200x1200 with 2 Axes>"
            ],
            "image/png": "[encoded data removed]"
          },
          "metadata": {}
        }
      ],
      "source": [
        "history_dict = history.history\n",
        "loss_values = history_dict['loss']\n",
        "val_loss_values = history_dict['val_loss']\n",
        "\n",
        "epochs = range(1, len(history_dict['accuracy']) +1)\n",
        "\n",
        "plt.figure(figsize=(12,12))\n",
        "\n",
        "plt.subplot(2, 2, 1)\n",
        "plt.plot(epochs, loss_values, label='Training loss')\n",
        "plt.plot(epochs, val_loss_values, label='Validation loss')\n",
        "plt.title('Training and Validation Loss')\n",
        "plt.xlabel('Epochs')\n",
        "plt.ylabel('Loss')\n",
        "plt.legend()\n",
        "\n",
        "plt.subplot(2, 2, 2)\n",
        "val_acc_values = history_dict['val_accuracy']\n",
        "acc_values = history_dict['accuracy']\n",
        "plt.plot(epochs, acc_values, label='Training acc')\n",
        "plt.plot(epochs, val_acc_values, label='Validation acc')\n",
        "plt.title('Accuracy')\n",
        "plt.xlabel('Epochs')\n",
        "plt.ylabel('accuracy')\n",
        "plt.legend()\n",
        "plt.show()"
      ]
    },
    {
      "cell_type": "code",
      "source": [
        "model_vgg1.save(\"my_modelvgg1\")"
      ],
      "metadata": {
        "id": "GAHj-R6grWW2"
      },
      "execution_count": null,
      "outputs": []
    },
    {
      "cell_type": "markdown",
      "metadata": {
        "id": "JO-Q8JyjvW4K"
      },
      "source": [
        "# Включимо один з блоків VGG16"
      ]
    },
    {
      "cell_type": "code",
      "execution_count": null,
      "metadata": {
        "id": "SwSM5FSR8fI1",
        "colab": {
          "base_uri": "https://localhost:8080/"
        },
        "outputId": "cd7efa52-b533-411a-8b92-fba92b275953"
      },
      "outputs": [
        {
          "output_type": "stream",
          "name": "stdout",
          "text": [
            "Downloading data from https://storage.googleapis.com/tensorflow/keras-applications/vgg16/vgg16_weights_tf_dim_ordering_tf_kernels_notop.h5\n",
            "58889256/58889256 [==============================] - 4s 0us/step\n"
          ]
        }
      ],
      "source": [
        "model_vgg0 = VGG16(weights=\"imagenet\", include_top=False, input_shape=(32, 32, 3))\n",
        "model_vgg0.trainable = True\n",
        "set_trainable = False\n",
        "for layer in model_vgg0.layers:\n",
        "    if layer.name == \"block5_conv1\":\n",
        "        set_trainable = True\n",
        "    if set_trainable:\n",
        "        layer.trainable = True\n",
        "    else:\n",
        "        layer.trainable = False\n",
        "\n",
        "modified_model = Sequential([\n",
        "    model_vgg0,\n",
        "    Flatten(),\n",
        "    Dense(512, activation='relu'),\n",
        "    Dense(256, activation='relu'),\n",
        "    Dense(32, activation='relu'),\n",
        "    Dense(10, activation='softmax')\n",
        "])"
      ]
    },
    {
      "cell_type": "code",
      "execution_count": null,
      "metadata": {
        "id": "FZ5M7l0hLEiP"
      },
      "outputs": [],
      "source": [
        "modified_model.compile(\n",
        "    optimizer=Adam(learning_rate=0.001),\n",
        "    loss='categorical_crossentropy',\n",
        "    metrics=['accuracy'])"
      ]
    },
    {
      "cell_type": "code",
      "execution_count": null,
      "metadata": {
        "id": "6i-E3eDkLLYt",
        "colab": {
          "base_uri": "https://localhost:8080/"
        },
        "outputId": "4cc0fc68-cf6c-44f9-a1bf-ceca3837cd8d"
      },
      "outputs": [
        {
          "output_type": "stream",
          "name": "stdout",
          "text": [
            "Model: \"sequential_1\"\n",
            "_________________________________________________________________\n",
            " Layer (type)                Output Shape              Param #   \n",
            "=================================================================\n",
            " vgg16 (Functional)          (None, 1, 1, 512)         14714688  \n",
            "                                                                 \n",
            " flatten (Flatten)           (None, 512)               0         \n",
            "                                                                 \n",
            " dense (Dense)               (None, 512)               262656    \n",
            "                                                                 \n",
            " dense_1 (Dense)             (None, 256)               131328    \n",
            "                                                                 \n",
            " dense_2 (Dense)             (None, 32)                8224      \n",
            "                                                                 \n",
            " dense_3 (Dense)             (None, 10)                330       \n",
            "                                                                 \n",
            "=================================================================\n",
            "Total params: 15117226 (57.67 MB)\n",
            "Trainable params: 7481962 (28.54 MB)\n",
            "Non-trainable params: 7635264 (29.13 MB)\n",
            "_________________________________________________________________\n"
          ]
        }
      ],
      "source": [
        "modified_model.summary()"
      ]
    },
    {
      "cell_type": "code",
      "source": [
        "history2 = modified_model.fit(X_train, y_tr, batch_size=128,\n",
        "                    epochs=10,\n",
        "                    verbose=1,\n",
        "                    validation_data=(X_val, y_val))"
      ],
      "metadata": {
        "colab": {
          "base_uri": "https://localhost:8080/"
        },
        "id": "cyz1rtqA91Hf",
        "outputId": "8cafdb24-06d0-4e55-ee6d-7199af8c47cc"
      },
      "execution_count": null,
      "outputs": [
        {
          "output_type": "stream",
          "name": "stdout",
          "text": [
            "Epoch 1/10\n",
            "797/797 [==============================] - 39s 35ms/step - loss: 0.5755 - accuracy: 0.7920 - val_loss: 0.4407 - val_accuracy: 0.8388\n",
            "Epoch 2/10\n",
            "797/797 [==============================] - 23s 29ms/step - loss: 0.4155 - accuracy: 0.8469 - val_loss: 0.4052 - val_accuracy: 0.8523\n",
            "Epoch 3/10\n",
            "797/797 [==============================] - 23s 29ms/step - loss: 0.3769 - accuracy: 0.8621 - val_loss: 0.4073 - val_accuracy: 0.8516\n",
            "Epoch 4/10\n",
            "797/797 [==============================] - 23s 29ms/step - loss: 0.3460 - accuracy: 0.8730 - val_loss: 0.3730 - val_accuracy: 0.8624\n",
            "Epoch 5/10\n",
            "797/797 [==============================] - 23s 29ms/step - loss: 0.3227 - accuracy: 0.8806 - val_loss: 0.3649 - val_accuracy: 0.8696\n",
            "Epoch 6/10\n",
            "797/797 [==============================] - 23s 29ms/step - loss: 0.3030 - accuracy: 0.8868 - val_loss: 0.3757 - val_accuracy: 0.8679\n",
            "Epoch 7/10\n",
            "797/797 [==============================] - 23s 29ms/step - loss: 0.2856 - accuracy: 0.8940 - val_loss: 0.3707 - val_accuracy: 0.8688\n",
            "Epoch 8/10\n",
            "797/797 [==============================] - 23s 28ms/step - loss: 0.2691 - accuracy: 0.8995 - val_loss: 0.3561 - val_accuracy: 0.8733\n",
            "Epoch 9/10\n",
            "797/797 [==============================] - 23s 29ms/step - loss: 0.2537 - accuracy: 0.9059 - val_loss: 0.3559 - val_accuracy: 0.8761\n",
            "Epoch 10/10\n",
            "797/797 [==============================] - 22s 28ms/step - loss: 0.2393 - accuracy: 0.9103 - val_loss: 0.3797 - val_accuracy: 0.8718\n"
          ]
        }
      ]
    },
    {
      "cell_type": "code",
      "source": [
        "score = modified_model.evaluate(x_test_prepared, y_test, verbose=0)\n",
        "print('Test loss: ', score[0])\n",
        "print('Test accuracy: ', score[1])"
      ],
      "metadata": {
        "colab": {
          "base_uri": "https://localhost:8080/"
        },
        "id": "lJia9TVd-PHe",
        "outputId": "cc67cafe-44bf-4c63-9364-b64b54c6a432"
      },
      "execution_count": null,
      "outputs": [
        {
          "output_type": "stream",
          "name": "stdout",
          "text": [
            "Test loss:  0.29724133014678955\n",
            "Test accuracy:  0.9014000296592712\n"
          ]
        }
      ]
    },
    {
      "cell_type": "markdown",
      "source": [
        "# Новий розділ"
      ],
      "metadata": {
        "id": "4T0nZj7OBOAW"
      }
    },
    {
      "cell_type": "code",
      "source": [
        "# Підготовка даних\n",
        "x_train = x_train.reshape(x_train.shape[0], *image_shape)\n",
        "x_test = x_test.reshape(x_test.shape[0], *image_shape)\n",
        "x_train_v = np.repeat(x_train, 3, axis=3)\n",
        "x_test_v = np.repeat(x_test, 3, axis=3)\n",
        "y_train = utils.to_categorical(y_train, 10)\n",
        "y_test = utils.to_categorical(y_test, 10)"
      ],
      "metadata": {
        "id": "iqdKlCBnBQky"
      },
      "execution_count": 7,
      "outputs": []
    },
    {
      "cell_type": "code",
      "source": [
        "x_train_prepared = np.array(resize_and_rescale(x_train_v))\n",
        "x_test_prepared = np.array(resize_and_rescale(x_test_v))"
      ],
      "metadata": {
        "id": "vseVpy6DBiWW"
      },
      "execution_count": 8,
      "outputs": []
    },
    {
      "cell_type": "code",
      "source": [
        "# augmented_data = datagen.flow(x_train_prepared, y_train, batch_size=x_train.shape[0], shuffle=False)\n",
        "# x_train_augmented, y_train_augmented = next(augmented_data)"
      ],
      "metadata": {
        "id": "HHKuow8ED_pV"
      },
      "execution_count": null,
      "outputs": []
    },
    {
      "cell_type": "code",
      "source": [
        "# X_train = np.concatenate([x_train_prepared, x_train_augmented])\n",
        "# y_train = np.concatenate([y_train, y_train_augmented])"
      ],
      "metadata": {
        "id": "s6bZeSP6EN0O"
      },
      "execution_count": null,
      "outputs": []
    },
    {
      "cell_type": "code",
      "source": [
        "X_train, X_val, y_tr, y_val = train_test_split(x_train_prepared, y_train, test_size=0.15)"
      ],
      "metadata": {
        "id": "EBTj685iB7cn"
      },
      "execution_count": 9,
      "outputs": []
    },
    {
      "cell_type": "code",
      "source": [
        "X_train.shape, X_val.shape, y_tr.shape, y_val.shape"
      ],
      "metadata": {
        "colab": {
          "base_uri": "https://localhost:8080/"
        },
        "id": "vJTnbH09ceG1",
        "outputId": "3aa75376-9736-41cd-bdc5-8e8de1369871"
      },
      "execution_count": 10,
      "outputs": [
        {
          "output_type": "execute_result",
          "data": {
            "text/plain": [
              "((51000, 32, 32, 3), (9000, 32, 32, 3), (51000, 10), (9000, 10))"
            ]
          },
          "metadata": {},
          "execution_count": 10
        }
      ]
    },
    {
      "cell_type": "code",
      "source": [
        "model_vgg0 = VGG16(weights=\"imagenet\", include_top=False, input_shape=(32, 32, 3))\n",
        "model_vgg0.trainable = True\n",
        "set_trainable = False\n",
        "for layer in model_vgg0.layers:\n",
        "    if layer.name == \"block5_conv1\":\n",
        "        set_trainable = True\n",
        "    if set_trainable:\n",
        "        layer.trainable = True\n",
        "    else:\n",
        "        layer.trainable = False\n",
        "\n",
        "modified_model2 = Sequential([\n",
        "    model_vgg0,\n",
        "    Flatten(),\n",
        "\n",
        "    # Dense(1024, activation='relu'),\n",
        "    # Dropout(0.5),\n",
        "    Dense(512, activation='relu'),\n",
        "    Dropout(0.5),\n",
        "    # Dense(256, activation='relu'),\n",
        "    # Dropout(0.2),\n",
        "    Dense(32, activation='relu'),\n",
        "    Dense(10, activation='softmax')\n",
        "])"
      ],
      "metadata": {
        "id": "wOW1xKqQalPs",
        "colab": {
          "base_uri": "https://localhost:8080/"
        },
        "outputId": "87a8c0fc-eb06-4d15-9057-5ebb03cfe2bb"
      },
      "execution_count": 11,
      "outputs": [
        {
          "output_type": "stream",
          "name": "stdout",
          "text": [
            "Downloading data from https://storage.googleapis.com/tensorflow/keras-applications/vgg16/vgg16_weights_tf_dim_ordering_tf_kernels_notop.h5\n",
            "58889256/58889256 [==============================] - 0s 0us/step\n"
          ]
        }
      ]
    },
    {
      "cell_type": "code",
      "source": [
        "modified_model2.compile(\n",
        "    optimizer=Adam(learning_rate=0.001),\n",
        "    loss='categorical_crossentropy',\n",
        "    metrics=['accuracy'])"
      ],
      "metadata": {
        "id": "eDHLOfRTbDut"
      },
      "execution_count": 12,
      "outputs": []
    },
    {
      "cell_type": "code",
      "source": [
        "history3 = modified_model2.fit(X_train, y_tr, batch_size=1024,\n",
        "                    epochs=20,\n",
        "                    verbose=1,\n",
        "                    validation_data=(X_val, y_val))"
      ],
      "metadata": {
        "colab": {
          "base_uri": "https://localhost:8080/"
        },
        "id": "sCLQIzBhbPAf",
        "outputId": "308778be-0c78-40ba-ee94-c81c5b4201e9"
      },
      "execution_count": 13,
      "outputs": [
        {
          "output_type": "stream",
          "name": "stdout",
          "text": [
            "Epoch 1/20\n",
            "50/50 [==============================] - 34s 342ms/step - loss: 0.8410 - accuracy: 0.6965 - val_loss: 0.3868 - val_accuracy: 0.8611\n",
            "Epoch 2/20\n",
            "50/50 [==============================] - 9s 173ms/step - loss: 0.3646 - accuracy: 0.8701 - val_loss: 0.3034 - val_accuracy: 0.8911\n",
            "Epoch 3/20\n",
            "50/50 [==============================] - 9s 171ms/step - loss: 0.3038 - accuracy: 0.8919 - val_loss: 0.2815 - val_accuracy: 0.8992\n",
            "Epoch 4/20\n",
            "50/50 [==============================] - 8s 162ms/step - loss: 0.2667 - accuracy: 0.9049 - val_loss: 0.2707 - val_accuracy: 0.9036\n",
            "Epoch 5/20\n",
            "50/50 [==============================] - 8s 161ms/step - loss: 0.2488 - accuracy: 0.9106 - val_loss: 0.2549 - val_accuracy: 0.9059\n",
            "Epoch 6/20\n",
            "50/50 [==============================] - 8s 166ms/step - loss: 0.2289 - accuracy: 0.9173 - val_loss: 0.2586 - val_accuracy: 0.9073\n",
            "Epoch 7/20\n",
            "50/50 [==============================] - 8s 157ms/step - loss: 0.2141 - accuracy: 0.9221 - val_loss: 0.2371 - val_accuracy: 0.9143\n",
            "Epoch 8/20\n",
            "50/50 [==============================] - 8s 165ms/step - loss: 0.2023 - accuracy: 0.9264 - val_loss: 0.2583 - val_accuracy: 0.9070\n",
            "Epoch 9/20\n",
            "50/50 [==============================] - 8s 159ms/step - loss: 0.1876 - accuracy: 0.9312 - val_loss: 0.2380 - val_accuracy: 0.9120\n",
            "Epoch 10/20\n",
            "50/50 [==============================] - 8s 168ms/step - loss: 0.1779 - accuracy: 0.9349 - val_loss: 0.2357 - val_accuracy: 0.9190\n",
            "Epoch 11/20\n",
            "50/50 [==============================] - 8s 168ms/step - loss: 0.1705 - accuracy: 0.9377 - val_loss: 0.2430 - val_accuracy: 0.9147\n",
            "Epoch 12/20\n",
            "50/50 [==============================] - 8s 169ms/step - loss: 0.1603 - accuracy: 0.9410 - val_loss: 0.2474 - val_accuracy: 0.9159\n",
            "Epoch 13/20\n",
            "50/50 [==============================] - 8s 169ms/step - loss: 0.1521 - accuracy: 0.9445 - val_loss: 0.2556 - val_accuracy: 0.9168\n",
            "Epoch 14/20\n",
            "50/50 [==============================] - 8s 160ms/step - loss: 0.1377 - accuracy: 0.9495 - val_loss: 0.2629 - val_accuracy: 0.9184\n",
            "Epoch 15/20\n",
            "50/50 [==============================] - 8s 160ms/step - loss: 0.1376 - accuracy: 0.9490 - val_loss: 0.2671 - val_accuracy: 0.9158\n",
            "Epoch 16/20\n",
            "50/50 [==============================] - 8s 169ms/step - loss: 0.1257 - accuracy: 0.9531 - val_loss: 0.2558 - val_accuracy: 0.9186\n",
            "Epoch 17/20\n",
            "50/50 [==============================] - 8s 160ms/step - loss: 0.1174 - accuracy: 0.9570 - val_loss: 0.2839 - val_accuracy: 0.9116\n",
            "Epoch 18/20\n",
            "50/50 [==============================] - 8s 167ms/step - loss: 0.1195 - accuracy: 0.9552 - val_loss: 0.2713 - val_accuracy: 0.9187\n",
            "Epoch 19/20\n",
            "50/50 [==============================] - 8s 160ms/step - loss: 0.1086 - accuracy: 0.9596 - val_loss: 0.2739 - val_accuracy: 0.9196\n",
            "Epoch 20/20\n",
            "50/50 [==============================] - 8s 161ms/step - loss: 0.1167 - accuracy: 0.9574 - val_loss: 0.2975 - val_accuracy: 0.9156\n"
          ]
        }
      ]
    },
    {
      "cell_type": "code",
      "source": [
        "score = modified_model2.evaluate(x_test_prepared, y_test, verbose=0)\n",
        "print('Test loss: ', score[0])\n",
        "print('Test accuracy: ', score[1])"
      ],
      "metadata": {
        "colab": {
          "base_uri": "https://localhost:8080/"
        },
        "id": "_TAZlo0nd6eZ",
        "outputId": "4f384759-8571-41b7-80ba-480a81f2e1de"
      },
      "execution_count": 14,
      "outputs": [
        {
          "output_type": "stream",
          "name": "stdout",
          "text": [
            "Test loss:  0.3551034927368164\n",
            "Test accuracy:  0.9052000045776367\n"
          ]
        }
      ]
    },
    {
      "cell_type": "code",
      "source": [
        "history_dict = history3.history\n",
        "loss_values = history_dict['loss']\n",
        "val_loss_values = history_dict['val_loss']\n",
        "\n",
        "epochs = range(1, len(history_dict['accuracy']) +1)\n",
        "\n",
        "plt.figure(figsize=(12,12))\n",
        "\n",
        "plt.subplot(2, 2, 1)\n",
        "plt.plot(epochs, loss_values, label='Training loss')\n",
        "plt.plot(epochs, val_loss_values, label='Validation loss')\n",
        "plt.title('Training and Validation Loss')\n",
        "plt.xlabel('Epochs')\n",
        "plt.ylabel('Loss')\n",
        "plt.legend()\n",
        "\n",
        "plt.subplot(2, 2, 2)\n",
        "val_acc_values = history_dict['val_accuracy']\n",
        "acc_values = history_dict['accuracy']\n",
        "plt.plot(epochs, acc_values, label='Training acc')\n",
        "plt.plot(epochs, val_acc_values, label='Validation acc')\n",
        "plt.title('Accuracy')\n",
        "plt.xlabel('Epochs')\n",
        "plt.ylabel('accuracy')\n",
        "plt.legend()\n",
        "plt.show()"
      ],
      "metadata": {
        "colab": {
          "base_uri": "https://localhost:8080/",
          "height": 522
        },
        "id": "jNMFgHszeQh4",
        "outputId": "d7b01825-2cc0-495c-cb4e-755c9318810f"
      },
      "execution_count": 15,
      "outputs": [
        {
          "output_type": "display_data",
          "data": {
            "text/plain": [
              "<Figure size 1200x1200 with 2 Axes>"
            ],
            "image/png": "[encoded data removed]"
          },
          "metadata": {}
        }
      ]
    },
    {
      "cell_type": "markdown",
      "source": [
        "Висновок.\n",
        "Створила згорткову нейромережу, що використовує VGG16 в якості згорткової основи. При включення \"заморозки\" найкращий результат, який вдалось досягти на тестовій виборці -\n",
        "\n",
        "1.   Test loss:  0.3694029450416565\n",
        "2.   Test accuracy:  0.8651999831199646\n",
        "При \"розморозці\" 5-го шару  VGG16:\n",
        "1.   Test loss:  0.3551034927368164\n",
        "2.   Test accuracy:  0.9052000045776367\n",
        "\n",
        "На жаль, при всіх варіантах архітектур, які я використали мені не вдалось досягти кращого результату, ніж при використанні простої згорткової моделі, а саме:\n",
        "1.   Test loss:  0.21296799182891846\n",
        "2.   Test accuracy:  0.9272000193595886\n",
        "\n",
        "Також, не вдалось покращити результати, застосовуючи розширення виборки методом генерації редагованих зображень"
      ],
      "metadata": {
        "id": "BV0IZJEQ6cK8"
      }
    }
  ],
  "metadata": {
    "colab": {
      "provenance": [],
      "toc_visible": true,
      "gpuType": "T4",
      "include_colab_link": true
    },
    "kernelspec": {
      "display_name": "Python 3",
      "name": "python3"
    },
    "language_info": {
      "codemirror_mode": {
        "name": "ipython",
        "version": 3
      },
      "file_extension": ".py",
      "mimetype": "text/x-python",
      "name": "python",
      "nbconvert_exporter": "python",
      "pygments_lexer": "ipython3",
      "version": "3.9.2"
    },
    "accelerator": "GPU"
  },
  "nbformat": 4,
  "nbformat_minor": 0
}