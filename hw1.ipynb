{
  "nbformat": 4,
  "nbformat_minor": 0,
  "metadata": {
    "colab": {
      "provenance": [],
      "toc_visible": true,
      "authorship_tag": "ABX9TyMv+bxbmW028OJJ9FGN6Inn",
      "include_colab_link": true
    },
    "kernelspec": {
      "name": "python3",
      "display_name": "Python 3"
    },
    "language_info": {
      "name": "python"
    }
  },
  "cells": [
    {
      "cell_type": "markdown",
      "metadata": {
        "id": "view-in-github",
        "colab_type": "text"
      },
      "source": [
        "<a href=\"https://colab.research.google.com/github/Nataliya2401/DS_11/blob/main/hw1.ipynb\" target=\"_parent\"><img src=\"https://colab.research.google.com/assets/colab-badge.svg\" alt=\"Open In Colab\"/></a>"
      ]
    },
    {
      "cell_type": "markdown",
      "source": [
        "### *1.Вектор з першими 10-ма натуральними числами та виведіть його значення.*"
      ],
      "metadata": {
        "id": "OcNsevV2ZCCB"
      }
    },
    {
      "cell_type": "code",
      "source": [
        "import numpy as np"
      ],
      "metadata": {
        "id": "SlVky4kfZOc5"
      },
      "execution_count": 2,
      "outputs": []
    },
    {
      "cell_type": "code",
      "execution_count": null,
      "metadata": {
        "id": "r8JUs0-IQBmd",
        "colab": {
          "base_uri": "https://localhost:8080/"
        },
        "outputId": "e31c7ad0-b1f6-4f85-8eee-570fd3e09c7c"
      },
      "outputs": [
        {
          "output_type": "stream",
          "name": "stdout",
          "text": [
            "[ 1  2  3  4  5  6  7  8  9 10]\n"
          ]
        }
      ],
      "source": [
        "a = np.arange(1, 11)\n",
        "print(a)"
      ]
    },
    {
      "cell_type": "markdown",
      "source": [
        "### *2.Матриця розміром 3x3, заповнена нулями*"
      ],
      "metadata": {
        "id": "7UbCUuX8dUex"
      }
    },
    {
      "cell_type": "markdown",
      "source": [],
      "metadata": {
        "id": "Fkh80cTNZ1as"
      }
    },
    {
      "cell_type": "code",
      "source": [
        "m = np.zeros((3, 3), dtype=int)\n",
        "print(m)\n"
      ],
      "metadata": {
        "colab": {
          "base_uri": "https://localhost:8080/"
        },
        "id": "2slaj_9edhSN",
        "outputId": "1a758b41-506b-463c-87eb-8b9dfee14757"
      },
      "execution_count": null,
      "outputs": [
        {
          "output_type": "stream",
          "name": "stdout",
          "text": [
            "[[0 0 0]\n",
            " [0 0 0]\n",
            " [0 0 0]]\n"
          ]
        }
      ]
    },
    {
      "cell_type": "markdown",
      "source": [
        "### *3.Масив 5x5 з випадковими цілими числами в діапазоні від 1 до 10.*"
      ],
      "metadata": {
        "id": "5785MWSqehLw"
      }
    },
    {
      "cell_type": "code",
      "source": [
        "a = np.random.randint(1,11, (5, 5))\n",
        "print(a)"
      ],
      "metadata": {
        "colab": {
          "base_uri": "https://localhost:8080/"
        },
        "id": "wQRuX9DIe8ov",
        "outputId": "d6ecff3b-ab0b-43ab-ec8a-16d802d6f07f"
      },
      "execution_count": null,
      "outputs": [
        {
          "output_type": "stream",
          "name": "stdout",
          "text": [
            "[[7 3 3 5 8]\n",
            " [1 3 6 7 7]\n",
            " [4 8 7 1 2]\n",
            " [3 3 1 8 5]\n",
            " [3 6 7 8 2]]\n"
          ]
        }
      ]
    },
    {
      "cell_type": "markdown",
      "source": [
        "### *4.Масив 4x4, з випадковими дійсними числами в діапазоні від 0 до 1*"
      ],
      "metadata": {
        "id": "L4B_GzxUjgU4"
      }
    },
    {
      "cell_type": "code",
      "source": [
        "m = np.random.random((4, 4))\n",
        "print(m)"
      ],
      "metadata": {
        "colab": {
          "base_uri": "https://localhost:8080/"
        },
        "id": "MH7FdQCUj2v1",
        "outputId": "2c4490b0-da25-410f-d444-89242c16f2d6"
      },
      "execution_count": null,
      "outputs": [
        {
          "output_type": "stream",
          "name": "stdout",
          "text": [
            "[[0.56122774 0.02102956 0.14359698 0.00435616]\n",
            " [0.66054012 0.92664629 0.45808265 0.50719652]\n",
            " [0.99123684 0.06331479 0.7297887  0.55570338]\n",
            " [0.23969925 0.56934945 0.68149823 0.36536545]]\n"
          ]
        }
      ]
    },
    {
      "cell_type": "markdown",
      "source": [
        "### 5.два масиви (5) з випадковими цілими числами (1-10) з поелементними операціями +, -, *"
      ],
      "metadata": {
        "id": "P52i7vVDyrVk"
      }
    },
    {
      "cell_type": "code",
      "source": [
        "a = np.random.randint(1, 11, 5)\n",
        "b = np.random.randint(1, 11, 5)\n",
        "print(a)\n",
        "print(b)\n",
        "print('a+b: ', a + b)\n",
        "print('a-b: ', a - b)\n",
        "print('a*b: ', a * b)"
      ],
      "metadata": {
        "colab": {
          "base_uri": "https://localhost:8080/"
        },
        "id": "heXbylaZzoKb",
        "outputId": "116b08b6-5fa4-451e-cb98-4b7480475f25"
      },
      "execution_count": null,
      "outputs": [
        {
          "output_type": "stream",
          "name": "stdout",
          "text": [
            "[3 6 9 6 9]\n",
            "[5 9 4 3 3]\n",
            "a+b:  [ 8 15 13  9 12]\n",
            "a-b:  [-2 -3  5  3  6]\n",
            "a*b:  [15 54 36 18 27]\n"
          ]
        }
      ]
    },
    {
      "cell_type": "markdown",
      "source": [
        "### *6. два вектори розміром 7, заповніть довільними числами та знайдіть їх скалярний добуток*"
      ],
      "metadata": {
        "id": "TNRze1kP1mkI"
      }
    },
    {
      "cell_type": "code",
      "source": [
        "v1 = np.random.randint(-100, 100, 7)\n",
        "v2 = np.random.randint(-100, 100, 7)\n",
        "print(v1)\n",
        "print(v2)\n",
        "print('scalar_product', np.dot(v1, v2))"
      ],
      "metadata": {
        "colab": {
          "base_uri": "https://localhost:8080/"
        },
        "id": "VqVuR6QU1vMT",
        "outputId": "297ba7be-5fa6-4d96-c98e-704d451609e6"
      },
      "execution_count": null,
      "outputs": [
        {
          "output_type": "stream",
          "name": "stdout",
          "text": [
            "[ 20  87  91  40  63 -22   0]\n",
            "[  7 -56  -8   9  98  32 -10]\n",
            "scalar_product 370\n"
          ]
        }
      ]
    },
    {
      "cell_type": "markdown",
      "source": [
        "### *7. дві матриці розміром 2x2 та 2x3, заповніть їх випадковими цілими числами в діапазоні від 1 до 10 та перемножте їх між собою*"
      ],
      "metadata": {
        "id": "12wazbR6Ge31"
      }
    },
    {
      "cell_type": "code",
      "source": [
        "m1 = np.random.randint(1, 11, (2,2))\n",
        "m2 = np.random.randint(1, 11, (2,3))\n",
        "print(m1)\n",
        "print(m2)\n",
        "print('product: ')\n",
        "print(np.dot(m1, m2))"
      ],
      "metadata": {
        "colab": {
          "base_uri": "https://localhost:8080/"
        },
        "id": "7k7RqCXXGlcL",
        "outputId": "1b71508b-3d45-4499-cbd1-e515feef68da"
      },
      "execution_count": null,
      "outputs": [
        {
          "output_type": "stream",
          "name": "stdout",
          "text": [
            "[[8 8]\n",
            " [3 8]]\n",
            "[[ 3  4  8]\n",
            " [10  4  4]]\n",
            "product: \n",
            "[[104  64  96]\n",
            " [ 89  44  56]]\n"
          ]
        }
      ]
    },
    {
      "cell_type": "markdown",
      "source": [
        "### *8. матриця розміром 3x3, заповніть її випадковими цілими числами в діапазоні від 1 до 10 та знайдіть її обернену матрицю*"
      ],
      "metadata": {
        "id": "e3reJScvI3ek"
      }
    },
    {
      "cell_type": "code",
      "source": [
        "m3 = np.random.randint(1, 11, (3,3))\n",
        "m3_inv = np.linalg.inv(m3)\n",
        "print(m3)\n",
        "print('-------------m3_inv:-----------')\n",
        "print(m3_inv)\n",
        "print('')\n",
        "print(np.dot(m3, m3_inv))"
      ],
      "metadata": {
        "colab": {
          "base_uri": "https://localhost:8080/"
        },
        "id": "wo70FfnVJGpW",
        "outputId": "a794b9bf-ce29-4017-9142-9f95576cce6b"
      },
      "execution_count": null,
      "outputs": [
        {
          "output_type": "stream",
          "name": "stdout",
          "text": [
            "[[5 1 2]\n",
            " [5 2 2]\n",
            " [1 2 3]]\n",
            "-------------m3_inv:-----------\n",
            "[[ 0.15384615  0.07692308 -0.15384615]\n",
            " [-1.          1.          0.        ]\n",
            " [ 0.61538462 -0.69230769  0.38461538]]\n",
            "\n",
            "[[ 1.00000000e+00  0.00000000e+00 -1.11022302e-16]\n",
            " [ 2.22044605e-16  1.00000000e+00 -1.11022302e-16]\n",
            " [ 0.00000000e+00  1.11022302e-16  1.00000000e+00]]\n"
          ]
        }
      ]
    },
    {
      "cell_type": "markdown",
      "source": [
        "### 9. Матриця розміром 4x4 з випадковими дійсними числами в діапазоні від 0 до 1 та транспонуйте її"
      ],
      "metadata": {
        "id": "dML563HBOUTC"
      }
    },
    {
      "cell_type": "code",
      "source": [
        "m4 = np.random.random((4,4))\n",
        "print(m4)\n",
        "print('--------------------------------------------')\n",
        "print(m4.T)"
      ],
      "metadata": {
        "colab": {
          "base_uri": "https://localhost:8080/"
        },
        "id": "Q0DRf1E8Oacq",
        "outputId": "223a1850-ff77-40fa-9b61-a391e5254655"
      },
      "execution_count": null,
      "outputs": [
        {
          "output_type": "stream",
          "name": "stdout",
          "text": [
            "[[0.45794623 0.14300928 0.07806612 0.22092568]\n",
            " [0.44813445 0.16695567 0.51001063 0.95890867]\n",
            " [0.3664657  0.81993262 0.11129426 0.06526805]\n",
            " [0.16239967 0.60197638 0.26508304 0.56184485]]\n",
            "--------------------------------------------\n",
            "[[0.45794623 0.44813445 0.3664657  0.16239967]\n",
            " [0.14300928 0.16695567 0.81993262 0.60197638]\n",
            " [0.07806612 0.51001063 0.11129426 0.26508304]\n",
            " [0.22092568 0.95890867 0.06526805 0.56184485]]\n"
          ]
        }
      ]
    },
    {
      "cell_type": "markdown",
      "source": [
        "### *10.Матриця розміром 3x4 та вектор розміром 4 з випадковими цілими числами в діапазоні від 1 до 10 та перемножте матрицю на вектор.*\n",
        "\n"
      ],
      "metadata": {
        "id": "uHcFbaScPStC"
      }
    },
    {
      "cell_type": "code",
      "source": [
        "m5 = np.random.randint(1, 11, (3,4))\n",
        "v = np.random.randint(1, 11, 4)\n",
        "print(m5,'\\n')\n",
        "print(v, '\\n')\n",
        "print(np.dot(m5,v))"
      ],
      "metadata": {
        "colab": {
          "base_uri": "https://localhost:8080/"
        },
        "id": "mIdfYDeRPlSv",
        "outputId": "fef722eb-18d0-4132-835c-ea7b7ca639eb"
      },
      "execution_count": null,
      "outputs": [
        {
          "output_type": "stream",
          "name": "stdout",
          "text": [
            "[[7 4 3 2]\n",
            " [3 6 4 8]\n",
            " [3 4 5 3]] \n",
            "\n",
            "[1 4 6 7] \n",
            "\n",
            "[ 55 107  70]\n"
          ]
        }
      ]
    },
    {
      "cell_type": "markdown",
      "source": [],
      "metadata": {
        "id": "HPDnq-XHW3iT"
      }
    },
    {
      "cell_type": "markdown",
      "source": [
        "### *11. матриця розміром 2x3 та вектор розміром 3 з випадковими дійсними числами в діапазоні від 0 до 1 та перемножте матрицю на вектор.*"
      ],
      "metadata": {
        "id": "Ya6nxH86W4fy"
      }
    },
    {
      "cell_type": "code",
      "source": [
        "m6 = np.random.randint(1, 11, (2,3))\n",
        "v = np.random.randint(1, 11, 3)\n",
        "print(m6,'\\n')\n",
        "print(v, '\\n')\n",
        "print(np.dot(m6,v))"
      ],
      "metadata": {
        "colab": {
          "base_uri": "https://localhost:8080/"
        },
        "id": "C9U30ojsTcjl",
        "outputId": "688a7c30-88dd-4988-b04b-d9021337f4e9"
      },
      "execution_count": null,
      "outputs": [
        {
          "output_type": "stream",
          "name": "stdout",
          "text": [
            "[[ 3  6  1]\n",
            " [10  4  7]] \n",
            "\n",
            "[3 4 5] \n",
            "\n",
            "[38 81]\n"
          ]
        }
      ]
    },
    {
      "cell_type": "markdown",
      "source": [],
      "metadata": {
        "id": "uQyTcJYcXiOH"
      }
    },
    {
      "cell_type": "markdown",
      "source": [
        "### *12. дві матриці розміром 2x2, заповніть їх випадковими цілими числами в діапазоні від 1 до 10 та виконайте їхнє поелементне множення.*"
      ],
      "metadata": {
        "id": "9rAI77etXiwm"
      }
    },
    {
      "cell_type": "markdown",
      "source": [],
      "metadata": {
        "id": "DUjbJdVvPMVI"
      }
    },
    {
      "cell_type": "code",
      "source": [
        "m1 = np.random.randint(1, 11, (2,2))\n",
        "m2 = np.random.randint(1, 11, (2,2))\n",
        "m_product = m1 * m2\n",
        "print(m1, \"\\n\")\n",
        "print(m2)\n",
        "print('-----result-----')\n",
        "print(m_product)"
      ],
      "metadata": {
        "colab": {
          "base_uri": "https://localhost:8080/"
        },
        "id": "nx0fQvlMXw0h",
        "outputId": "0bd56d60-fbdd-4030-902e-ae2d433ee86a"
      },
      "execution_count": null,
      "outputs": [
        {
          "output_type": "stream",
          "name": "stdout",
          "text": [
            "[[6 7]\n",
            " [5 1]] \n",
            "\n",
            "[[ 9 10]\n",
            " [ 3  8]]\n",
            "-----result-----\n",
            "[[54 70]\n",
            " [15  8]]\n"
          ]
        }
      ]
    },
    {
      "cell_type": "markdown",
      "source": [
        "### *13. дві матриці розміром 2x2, заповніть їх випадковими цілими числами в діапазоні від 1 до 10 та знайдіть їх добуток.*"
      ],
      "metadata": {
        "id": "jBGAXWwQYcSc"
      }
    },
    {
      "cell_type": "code",
      "source": [
        "m_product = np.dot(m1, m2)\n",
        "print(m1, \"\\n\")\n",
        "print(m2)\n",
        "print('-----result-----')\n",
        "print(m_product)"
      ],
      "metadata": {
        "colab": {
          "base_uri": "https://localhost:8080/"
        },
        "id": "4Rtv3ApXYjq8",
        "outputId": "646b0646-e174-489b-e020-7cbfc0d091c7"
      },
      "execution_count": null,
      "outputs": [
        {
          "output_type": "stream",
          "name": "stdout",
          "text": [
            "[[6 7]\n",
            " [5 1]] \n",
            "\n",
            "[[ 9 10]\n",
            " [ 3  8]]\n",
            "-----result-----\n",
            "[[ 75 116]\n",
            " [ 48  58]]\n"
          ]
        }
      ]
    },
    {
      "cell_type": "markdown",
      "source": [
        "### *14. матрицю розміром 5x5 з випадковими цілими числами в діапазоні від 1 до 100 та знайдіть суму елементів матриці*"
      ],
      "metadata": {
        "id": "AmHy_0V3Y2-F"
      }
    },
    {
      "cell_type": "code",
      "source": [
        "M = np.random.randint(1, 101, (5,5))\n",
        "sum_elements = 0\n",
        "for i in range(5):\n",
        "  for j in range(5):\n",
        "    sum_elements += M[i][j]\n",
        "print(M)\n",
        "print('sum:  ', sum_elements)"
      ],
      "metadata": {
        "colab": {
          "base_uri": "https://localhost:8080/"
        },
        "id": "xIgx42W_ZDSi",
        "outputId": "95a2840c-b425-4ffb-d8c2-c5f1c563c0c6"
      },
      "execution_count": null,
      "outputs": [
        {
          "output_type": "stream",
          "name": "stdout",
          "text": [
            "[[58 41 22 19 94]\n",
            " [51 33 25 74 41]\n",
            " [34 55 10 69  8]\n",
            " [ 9 80  3 47 74]\n",
            " [57 16 92 65 66]]\n",
            "sum:   1143\n"
          ]
        }
      ]
    },
    {
      "cell_type": "markdown",
      "source": [
        "### *15. дві матриці 4x4, з випадковими цілими числами в діапазоні від 1 до 10 та знайдіть їхню різницю.*"
      ],
      "metadata": {
        "id": "ODmblLK6trBA"
      }
    },
    {
      "cell_type": "code",
      "source": [
        "M1 = np.random.randint(1, 11, (4, 4))\n",
        "M2 = np.random.randint(1, 11, (4, 4))\n",
        "print(M1, '\\n', '\\n', M2, '\\n')\n",
        "print(M2 - M1)"
      ],
      "metadata": {
        "colab": {
          "base_uri": "https://localhost:8080/"
        },
        "id": "KKzAiWmat8gi",
        "outputId": "0666fa05-b6a0-4522-c834-b1f49ce2b447"
      },
      "execution_count": 4,
      "outputs": [
        {
          "output_type": "stream",
          "name": "stdout",
          "text": [
            "[[2 6 8 1]\n",
            " [9 8 3 2]\n",
            " [9 3 4 4]\n",
            " [6 3 2 1]] \n",
            " \n",
            " [[5 2 7 6]\n",
            " [5 4 1 6]\n",
            " [7 5 8 9]\n",
            " [3 4 3 3]] \n",
            "\n",
            "[[ 3 -4 -1  5]\n",
            " [-4 -4 -2  4]\n",
            " [-2  2  4  5]\n",
            " [-3  1  1  2]]\n"
          ]
        }
      ]
    },
    {
      "cell_type": "markdown",
      "source": [
        "### *16. матрицю  3x3, з випадковими дійсними числами від 0 до 1 та знайдіть вектор-стовпчик, що містить суму елементів кожного рядка матриці.*"
      ],
      "metadata": {
        "id": "g8B-Jp96vXYH"
      }
    },
    {
      "cell_type": "code",
      "source": [
        "M3 = np.random.random((3, 3))\n",
        "print(M3, '\\n')\n",
        "n = np.zeros(3)\n",
        "for i in range(3):\n",
        "  n[i] = np.sum(M3[i])\n",
        "print(n)\n",
        "\n",
        "n2 = np.sum(M3, axis=1)\n",
        "print(n2)"
      ],
      "metadata": {
        "colab": {
          "base_uri": "https://localhost:8080/"
        },
        "id": "yh_iPu9NvlPr",
        "outputId": "8a00e360-c123-4f8e-dca0-e63060a56bb2"
      },
      "execution_count": 30,
      "outputs": [
        {
          "output_type": "stream",
          "name": "stdout",
          "text": [
            "[[0.99992061 0.27649349 0.8620126 ]\n",
            " [0.12324079 0.43707688 0.09815193]\n",
            " [0.04789205 0.01728615 0.73111853]] \n",
            "\n",
            "[2.1384267  0.65846959 0.79629674]\n",
            "[2.1384267  0.65846959 0.79629674]\n"
          ]
        }
      ]
    },
    {
      "cell_type": "markdown",
      "source": [
        "### *17. матрицю 3x4 з довільними цілими числами і створінь матрицю з квадратами цих чисел*"
      ],
      "metadata": {
        "id": "kkjWS-2r3gKl"
      }
    },
    {
      "cell_type": "code",
      "source": [
        "l = 3\n",
        "n = 4\n",
        "M5 = np.random.randint(-100, 100, (l, n))\n",
        "M6 = np.zeros((l, n))\n",
        "print (M5, '\\n')\n",
        "for i in range(l):\n",
        "  for j in range(n):\n",
        "    M6[i][j] = np.square(M5[i][j])\n",
        "print(M6)\n",
        "\n",
        "M7 = np.square(M5)\n",
        "print(M7)"
      ],
      "metadata": {
        "colab": {
          "base_uri": "https://localhost:8080/"
        },
        "id": "imuLznLQ30uu",
        "outputId": "8b90545b-f78c-4054-a7df-bc7ec1dc6277"
      },
      "execution_count": 34,
      "outputs": [
        {
          "output_type": "stream",
          "name": "stdout",
          "text": [
            "[[-15  82  77  10]\n",
            " [-86 -40  13  78]\n",
            " [-40  10   8  15]] \n",
            "\n",
            "[[ 225. 6724. 5929.  100.]\n",
            " [7396. 1600.  169. 6084.]\n",
            " [1600.  100.   64.  225.]]\n",
            "[[ 225 6724 5929  100]\n",
            " [7396 1600  169 6084]\n",
            " [1600  100   64  225]]\n"
          ]
        }
      ]
    },
    {
      "cell_type": "markdown",
      "source": [
        "### *18. вектор  4, з випадковими цілими числами від 1 до 50 та знайдіть вектор з квадратними коренями цих чисел*"
      ],
      "metadata": {
        "id": "dmSFz9HqBhy0"
      }
    },
    {
      "cell_type": "markdown",
      "source": [],
      "metadata": {
        "id": "1U40fPoEB3U5"
      }
    },
    {
      "cell_type": "code",
      "source": [
        "n3 = np.random.randint(1, 51, 4)\n",
        "print(n3, '\\n')\n",
        "n4 = np.sqrt(n3)\n",
        "print(n4)"
      ],
      "metadata": {
        "colab": {
          "base_uri": "https://localhost:8080/"
        },
        "id": "mpT2TsyxCGIy",
        "outputId": "2af399b9-a7fa-46ff-a18b-e11b1e709c4b"
      },
      "execution_count": 37,
      "outputs": [
        {
          "output_type": "stream",
          "name": "stdout",
          "text": [
            "[33 19 42 39] \n",
            "\n",
            "[5.74456265 4.35889894 6.4807407  6.244998  ]\n"
          ]
        }
      ]
    }
  ]
}