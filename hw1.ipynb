{
  "nbformat": 4,
  "nbformat_minor": 0,
  "metadata": {
    "colab": {
      "provenance": [],
      "toc_visible": true,
      "authorship_tag": "ABX9TyNN/+eixv/3U28fWv11kpGT",
      "include_colab_link": true
    },
    "kernelspec": {
      "name": "python3",
      "display_name": "Python 3"
    },
    "language_info": {
      "name": "python"
    }
  },
  "cells": [
    {
      "cell_type": "markdown",
      "metadata": {
        "id": "view-in-github",
        "colab_type": "text"
      },
      "source": [
        "<a href=\"https://colab.research.google.com/github/Nataliya2401/DS_11/blob/main/hw1.ipynb\" target=\"_parent\"><img src=\"https://colab.research.google.com/assets/colab-badge.svg\" alt=\"Open In Colab\"/></a>"
      ]
    },
    {
      "cell_type": "markdown",
      "source": [
        "# 1.Вектор з першими 10-ма натуральними числами та виведіть його значення."
      ],
      "metadata": {
        "id": "OcNsevV2ZCCB"
      }
    },
    {
      "cell_type": "code",
      "source": [
        "import numpy as np"
      ],
      "metadata": {
        "id": "SlVky4kfZOc5"
      },
      "execution_count": 2,
      "outputs": []
    },
    {
      "cell_type": "code",
      "execution_count": 4,
      "metadata": {
        "id": "r8JUs0-IQBmd",
        "colab": {
          "base_uri": "https://localhost:8080/"
        },
        "outputId": "e31c7ad0-b1f6-4f85-8eee-570fd3e09c7c"
      },
      "outputs": [
        {
          "output_type": "stream",
          "name": "stdout",
          "text": [
            "[ 1  2  3  4  5  6  7  8  9 10]\n"
          ]
        }
      ],
      "source": [
        "a = np.arange(1, 11)\n",
        "print(a)"
      ]
    },
    {
      "cell_type": "markdown",
      "source": [
        "# 2.Матриця розміром 3x3, заповнена нулями"
      ],
      "metadata": {
        "id": "7UbCUuX8dUex"
      }
    },
    {
      "cell_type": "markdown",
      "source": [],
      "metadata": {
        "id": "Fkh80cTNZ1as"
      }
    },
    {
      "cell_type": "code",
      "source": [
        "m = np.zeros((3, 3), dtype=int)\n",
        "print(m)\n"
      ],
      "metadata": {
        "colab": {
          "base_uri": "https://localhost:8080/"
        },
        "id": "2slaj_9edhSN",
        "outputId": "1a758b41-506b-463c-87eb-8b9dfee14757"
      },
      "execution_count": 5,
      "outputs": [
        {
          "output_type": "stream",
          "name": "stdout",
          "text": [
            "[[0 0 0]\n",
            " [0 0 0]\n",
            " [0 0 0]]\n"
          ]
        }
      ]
    },
    {
      "cell_type": "markdown",
      "source": [
        "# 3.Масив 5x5 з випадковими цілими числами в діапазоні від 1 до 10."
      ],
      "metadata": {
        "id": "5785MWSqehLw"
      }
    },
    {
      "cell_type": "code",
      "source": [
        "a = np.random.randint(1,10, (5, 5))\n",
        "print(a)"
      ],
      "metadata": {
        "colab": {
          "base_uri": "https://localhost:8080/"
        },
        "id": "wQRuX9DIe8ov",
        "outputId": "d6ecff3b-ab0b-43ab-ec8a-16d802d6f07f"
      },
      "execution_count": 8,
      "outputs": [
        {
          "output_type": "stream",
          "name": "stdout",
          "text": [
            "[[7 3 3 5 8]\n",
            " [1 3 6 7 7]\n",
            " [4 8 7 1 2]\n",
            " [3 3 1 8 5]\n",
            " [3 6 7 8 2]]\n"
          ]
        }
      ]
    },
    {
      "cell_type": "markdown",
      "source": [
        "# Масив 4x4, з випадковими дійсними числами в діапазоні від 0 до 1"
      ],
      "metadata": {
        "id": "L4B_GzxUjgU4"
      }
    },
    {
      "cell_type": "code",
      "source": [
        "m = np.random.random((4, 4))\n",
        "print(m)"
      ],
      "metadata": {
        "colab": {
          "base_uri": "https://localhost:8080/"
        },
        "id": "MH7FdQCUj2v1",
        "outputId": "2c4490b0-da25-410f-d444-89242c16f2d6"
      },
      "execution_count": 9,
      "outputs": [
        {
          "output_type": "stream",
          "name": "stdout",
          "text": [
            "[[0.56122774 0.02102956 0.14359698 0.00435616]\n",
            " [0.66054012 0.92664629 0.45808265 0.50719652]\n",
            " [0.99123684 0.06331479 0.7297887  0.55570338]\n",
            " [0.23969925 0.56934945 0.68149823 0.36536545]]\n"
          ]
        }
      ]
    }
  ]
}